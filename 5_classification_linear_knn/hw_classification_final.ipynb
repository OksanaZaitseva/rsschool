{
 "cells": [
  {
   "cell_type": "markdown",
   "metadata": {},
   "source": [
    "# Classification. Linear models and KNN"
   ]
  },
  {
   "cell_type": "code",
   "execution_count": 1,
   "metadata": {},
   "outputs": [],
   "source": [
    "import os\n",
    "import numpy as np\n",
    "import pandas as pd\n",
    "import seaborn as sns\n",
    "import matplotlib.pyplot as plt\n",
    "import itertools"
   ]
  },
  {
   "cell_type": "code",
   "execution_count": 2,
   "metadata": {},
   "outputs": [],
   "source": [
    "from sklearn.pipeline import Pipeline\n",
    "from sklearn.compose import ColumnTransformer\n",
    "from sklearn.model_selection import train_test_split, cross_validate\n",
    "from sklearn.metrics import plot_confusion_matrix, accuracy_score\n",
    "from sklearn.neighbors import KNeighborsClassifier\n",
    "from sklearn.preprocessing import StandardScaler, OneHotEncoder, FunctionTransformer, PolynomialFeatures\n",
    "from sklearn.linear_model import LogisticRegression\n",
    "from sklearn.model_selection import GridSearchCV"
   ]
  },
  {
   "cell_type": "code",
   "execution_count": 3,
   "metadata": {},
   "outputs": [],
   "source": [
    "from sklearn import set_config\n",
    "set_config(display='diagram')"
   ]
  },
  {
   "cell_type": "markdown",
   "metadata": {},
   "source": [
    "## Part 1: Implementing Logistic Regression"
   ]
  },
  {
   "cell_type": "markdown",
   "metadata": {},
   "source": [
    "In this task you need to implement Logistic Regression with l2 regularization using gradient descent algorithm."
   ]
  },
  {
   "cell_type": "markdown",
   "metadata": {},
   "source": [
    "Logistic Regression loss:\n",
    "$$ L(w) = \\dfrac{1}{N}\\sum_{i=1}^N \\log(1 + e^{-\\langle w, x_i \\rangle y_i}) + \\frac{1}{2C} \\lVert w \\rVert^2  \\to \\min_w$$\n",
    "$$\\langle w, x_i \\rangle = \\sum_{j=1}^n w_{j}x_{ij} + w_{0},$$ $$ y_{i} \\in \\{-1, 1\\}$$ where $n$ is the number of features and $N$ is the number of samples."
   ]
  },
  {
   "cell_type": "markdown",
   "metadata": {},
   "source": [
    "Gradient descent step:\n",
    "$$w^{(t+1)} := w^{(t)} + \\dfrac{\\eta}{N}\\sum_{i=1}^N y_ix_i \\Big(1 - \\dfrac{1}{1 + exp(-\\langle w^{(t)}, x_i \\rangle y_i)}\\Big) - \\eta \\frac{1}{C} w,$$\n",
    "where $\\eta$ is the learning rate."
   ]
  },
  {
   "cell_type": "markdown",
   "metadata": {},
   "source": [
    "**(2 points)** Implement the algorithm and use it to classify the digits (https://scikit-learn.org/stable/modules/generated/sklearn.datasets.load_digits.html) into \"even\" and \"odd\" categories. \"Even\" and \"Odd\" classes  should correspond to {-1, 1} labels."
   ]
  },
  {
   "cell_type": "markdown",
   "metadata": {},
   "source": [
    "Stopping criteria: either the number of iterations exceeds *max_iter* or $||w^{(t+1)} - w^{(t)}||_2 < tol$."
   ]
  },
  {
   "cell_type": "code",
   "execution_count": 4,
   "metadata": {},
   "outputs": [],
   "source": [
    "from sklearn.exceptions import NotFittedError"
   ]
  },
  {
   "cell_type": "code",
   "execution_count": 5,
   "metadata": {},
   "outputs": [],
   "source": [
    "class CustomLogisticRegression:\n",
    "    _estimator_type = \"classifier\"\n",
    "    \n",
    "    def __init__(self, eta=0.001, max_iter=1000, C=1.0, tol=1e-5, random_state=42, zero_init=False):\n",
    "        \"\"\"Logistic Regression classifier.\n",
    "        \n",
    "        Args:\n",
    "            eta: float, default=0.001\n",
    "                Learning rate.\n",
    "            max_iter: int, default=1000\n",
    "                Maximum number of iterations taken for the solvers to converge.\n",
    "            C: float, default=1.0\n",
    "                Inverse of regularization strength; must be a positive float.\n",
    "                Smaller values specify stronger regularization.\n",
    "            tol: float, default=1e-5\n",
    "                Tolerance for stopping criteria.\n",
    "            random_state: int, default=42\n",
    "                Random state.\n",
    "            zero_init: bool, default=False\n",
    "                Zero weight initialization.\n",
    "        \"\"\"\n",
    "        self.eta = eta\n",
    "        self.max_iter = max_iter\n",
    "        self.C = C\n",
    "        self.tol = tol\n",
    "        self.random_state = np.random.RandomState(seed=random_state)\n",
    "        self.zero_init = zero_init\n",
    "        self.logloss = []\n",
    "         \n",
    "    def get_sigmoid(self, X, weights):\n",
    "        \"\"\"Compute the sigmoid value.\"\"\"\n",
    "        # <your code>\n",
    "        return 1.0 / (1.0 + np.exp(-np.dot(X, weights.T))) \n",
    "    \n",
    "    def get_loss(self, x, weights, y):\n",
    "        \"\"\"Calculate the loss.\"\"\"\n",
    "        # <your code>\n",
    "        return np.sum(np.log(1+np.e**(-np.dot(x, weights.T)*y)))/x.shape[0]+np.linalg.norm(weights)*0.5*self.C\n",
    "     \n",
    "    def fit(self, X, y):\n",
    "        \"\"\"Fit the model.\n",
    "        \n",
    "        Args:\n",
    "            X: numpy array of shape (n_samples, n_features)\n",
    "            y: numpy array of shape (n_samples,)\n",
    "                Target vector.        \n",
    "        \"\"\"\n",
    "        X_ext = np.hstack([np.ones((X.shape[0], 1)), X]) # a constant feature is included to handle intercept\n",
    "        num_features = X_ext.shape[1]\n",
    "        if self.zero_init:\n",
    "            self.weights_ = np.zeros(num_features) \n",
    "        else:\n",
    "            weight_threshold = 1.0 / (2 * num_features)\n",
    "            self.weights_ = self.random_state.uniform(low=-weight_threshold,\n",
    "                                                      high=weight_threshold, size=num_features) # random weight initialization\n",
    "        \n",
    "        for i in range(self.max_iter):\n",
    "            pred_y = 1 - 1 / (1 + np.exp(-(np.dot(X_ext, self.weights_.T)*y)))\n",
    "            delta = self.weights_/self.C - np.dot(y*X_ext.T, pred_y)/X_ext.shape[0]\n",
    "            self.logloss.append(self.get_loss(X_ext, self.weights_, y))\n",
    "            self.weights_ -= self.eta * delta\n",
    "            \n",
    "            if np.linalg.norm(self.eta * delta) < self.tol:                  \n",
    "                break\n",
    "                \n",
    "     \n",
    "    def predict_proba(self, X):\n",
    "        \"\"\"Predict positive class probabilities.\n",
    "        \n",
    "        Args:\n",
    "            X: numpy array of shape (n_samples, n_features)\n",
    "        Returns:\n",
    "            y: numpy array of shape (n_samples,)\n",
    "                Vector containing positive class probabilities.\n",
    "        \"\"\"\n",
    "        X_ext = np.hstack([np.ones((X.shape[0], 1)), X])\n",
    "        if hasattr(self, 'weights_'):\n",
    "            return self.get_sigmoid(X_ext, self.weights_)\n",
    "        else: \n",
    "            raise NotFittedError(\"CustomLogisticRegression instance is not fitted yet\")\n",
    "    \n",
    "    def predict(self, X):\n",
    "        \"\"\"Predict classes.\n",
    "        \n",
    "        Args:\n",
    "            X: numpy array of shape (n_samples, n_features)\n",
    "        Returns:\n",
    "            y: numpy array of shape (n_samples,)\n",
    "                Vector containing predicted class labels.\n",
    "        \"\"\"\n",
    "        # <your code>\n",
    "        X_ext = np.hstack([np.ones((X.shape[0], 1)), X])\n",
    "        if hasattr(self, 'weights_'):\n",
    "            return np.where(self.predict_proba(X) > 0.5, 1, -1)\n",
    "        else: \n",
    "            raise NotFittedError(\"CustomLogisticRegression instance is not fitted yet\")"
   ]
  },
  {
   "cell_type": "code",
   "execution_count": 6,
   "metadata": {},
   "outputs": [],
   "source": [
    "from sklearn import datasets\n",
    "from sklearn import metrics"
   ]
  },
  {
   "cell_type": "code",
   "execution_count": 7,
   "metadata": {},
   "outputs": [
    {
     "data": {
      "image/png": "[encoded data removed]",
      "text/plain": [
       "<Figure size 720x360 with 21 Axes>"
      ]
     },
     "metadata": {
      "needs_background": "light"
     },
     "output_type": "display_data"
    }
   ],
   "source": [
    "X, y = datasets.load_digits(n_class=10, return_X_y=True)\n",
    "\n",
    "_, axes = plt.subplots(nrows=3, ncols=7, figsize=(10, 5))\n",
    "for ax, image, label in zip(axes.flatten(), X, y):\n",
    "    ax.set_axis_off()\n",
    "    ax.imshow(image.reshape((8, 8)), cmap=plt.cm.gray_r if label % 2 else plt.cm.afmhot_r)\n",
    "    ax.set_title(label)\n",
    "\n",
    "X_train, X_test, y_train, y_test = train_test_split(X, y, test_size=0.2, shuffle=True, random_state=42)\n",
    "#y_train = \"<your code>\"\n",
    "#y_test = \"<your code>\"\n",
    "y_train = (y_train % 2) * 2 - 1\n",
    "y_test = (y_test % 2) * 2 - 1"
   ]
  },
  {
   "cell_type": "code",
   "execution_count": 8,
   "metadata": {},
   "outputs": [],
   "source": [
    "assert (np.unique(y_train) == [-1, 1]).all()\n",
    "assert (np.unique(y_test) == [-1, 1]).all()"
   ]
  },
  {
   "cell_type": "code",
   "execution_count": 9,
   "metadata": {},
   "outputs": [],
   "source": [
    "def fit_evaluate(clf, X_train, y_train, X_test, y_test):\n",
    "    clf.fit(X_train, y_train)\n",
    "    disp = metrics.plot_confusion_matrix(clf, X_test, y_test, normalize='true')\n",
    "    disp.figure_.suptitle(\"Confusion Matrix\")\n",
    "    plt.show()\n",
    "    \n",
    "    return metrics.accuracy_score(y_pred=clf.predict(X_train), y_true=y_train), \\\n",
    "           metrics.accuracy_score(y_pred=clf.predict(X_test), y_true=y_test)"
   ]
  },
  {
   "cell_type": "code",
   "execution_count": 10,
   "metadata": {},
   "outputs": [],
   "source": [
    "lr_clf = CustomLogisticRegression(max_iter=1, zero_init=True)"
   ]
  },
  {
   "cell_type": "code",
   "execution_count": 11,
   "metadata": {},
   "outputs": [],
   "source": [
    "assert np.allclose(lr_clf.get_sigmoid(np.array([[0.5, 0, 1.0], [0.3, 1.3, 1.0]]), np.array([0.5, -0.5, 0.1])),\n",
    "                   np.array([0.58662, 0.40131]))"
   ]
  },
  {
   "cell_type": "code",
   "execution_count": 12,
   "metadata": {},
   "outputs": [],
   "source": [
    "lr_clf.fit(X_train, y_train)"
   ]
  },
  {
   "cell_type": "code",
   "execution_count": 13,
   "metadata": {},
   "outputs": [],
   "source": [
    "assert np.allclose(lr_clf.weights_, np.array([ 3.1000e-06,  0.0000e+00,  4.1800e-05,  5.4770e-04,  2.2130e-04,\n",
    "        4.8750e-04,  1.3577e-03,  5.9780e-04,  5.6400e-05, -7.0000e-07,\n",
    "        1.6910e-04,  2.5190e-04, -4.3700e-04,  3.6190e-04,  1.0049e-03,\n",
    "        4.2280e-04,  2.5700e-05,  3.0000e-07, -1.1500e-05, -7.2440e-04,\n",
    "       -2.6200e-04,  8.7540e-04,  4.1540e-04, -8.4200e-05, -5.2000e-06,\n",
    "        0.0000e+00, -2.2160e-04, -5.7130e-04,  9.8570e-04,  1.3507e-03,\n",
    "        5.0210e-04, -1.7050e-04, -1.0000e-06,  0.0000e+00, -6.7810e-04,\n",
    "       -1.0515e-03, -4.4500e-05,  3.7160e-04,  4.2100e-04, -8.1800e-05,\n",
    "        0.0000e+00, -5.2000e-06, -5.3410e-04, -2.0393e-03, -8.4310e-04,\n",
    "        1.0400e-04, -1.2390e-04, -1.7880e-04, -1.3200e-05, -4.5000e-06,\n",
    "       -9.4300e-05, -1.1127e-03, -5.0900e-04, -2.1850e-04, -5.6050e-04,\n",
    "       -3.9560e-04, -1.7700e-05, -3.0000e-07,  2.6800e-05,  6.3920e-04,\n",
    "        1.8090e-04, -7.3660e-04, -5.3930e-04, -3.7060e-04, -2.8200e-05]), atol=1e-5)"
   ]
  },
  {
   "cell_type": "code",
   "execution_count": 14,
   "metadata": {},
   "outputs": [],
   "source": [
    "model = CustomLogisticRegression()"
   ]
  },
  {
   "cell_type": "code",
   "execution_count": 15,
   "metadata": {},
   "outputs": [
    {
     "data": {
      "image/png": "[encoded data removed]",
      "text/plain": [
       "<Figure size 432x288 with 2 Axes>"
      ]
     },
     "metadata": {
      "needs_background": "light"
     },
     "output_type": "display_data"
    }
   ],
   "source": [
    "train_acc, test_acc = fit_evaluate(model, X_train, y_train, X_test, y_test)"
   ]
  },
  {
   "cell_type": "code",
   "execution_count": 16,
   "metadata": {},
   "outputs": [
    {
     "data": {
      "text/plain": [
       "(0.9109255393180237, 0.9388888888888889)"
      ]
     },
     "execution_count": 16,
     "metadata": {},
     "output_type": "execute_result"
    }
   ],
   "source": [
    "train_acc, test_acc"
   ]
  },
  {
   "cell_type": "code",
   "execution_count": 17,
   "metadata": {},
   "outputs": [],
   "source": [
    "assert min(train_acc, test_acc) > 0.9"
   ]
  },
  {
   "cell_type": "markdown",
   "metadata": {},
   "source": [
    "**(0.5 points)** Visualize the loss history."
   ]
  },
  {
   "cell_type": "code",
   "execution_count": 18,
   "metadata": {},
   "outputs": [
    {
     "data": {
      "image/png": "[encoded data removed]",
      "text/plain": [
       "<Figure size 432x288 with 1 Axes>"
      ]
     },
     "metadata": {
      "needs_background": "light"
     },
     "output_type": "display_data"
    }
   ],
   "source": [
    "sns.lineplot(x=range(1, len(model.logloss)+1), y=model.logloss)\n",
    "plt.xlabel('Iteration')\n",
    "plt.ylabel('Log loss')\n",
    "plt.title(f'Logistic regression (eta=0.001, C=1.0)');"
   ]
  },
  {
   "cell_type": "markdown",
   "metadata": {},
   "source": [
    "**(0.5 points)** Try different learning rates and compare the results. How does the learning rate influence the convergence?"
   ]
  },
  {
   "cell_type": "code",
   "execution_count": 19,
   "metadata": {},
   "outputs": [
    {
     "name": "stderr",
     "output_type": "stream",
     "text": [
      "<ipython-input-5-dcf20b0110a4>:58: RuntimeWarning: overflow encountered in exp\n",
      "  pred_y = 1 - 1 / (1 + np.exp(-(np.dot(X_ext, self.weights_.T)*y)))\n",
      "<ipython-input-5-dcf20b0110a4>:38: RuntimeWarning: overflow encountered in power\n",
      "  return np.sum(np.log(1+np.e**(-np.dot(x, weights.T)*y)))/x.shape[0]+np.linalg.norm(weights)*0.5*self.C\n"
     ]
    }
   ],
   "source": [
    "eta_val = [0.0001, 0.001, 0.005, 0.01, 0.1, 0.5]\n",
    "train_metric, test_metric, logloss = [], [], {}\n",
    "for eta in eta_val:\n",
    "    clf = CustomLogisticRegression(eta=eta)\n",
    "    clf.fit(X_train, y_train)\n",
    "    logloss[eta] = clf.logloss\n",
    "    train_metric.append( metrics.accuracy_score(y_pred=clf.predict(X_train), y_true=y_train))\n",
    "    test_metric.append(metrics.accuracy_score(y_pred=clf.predict(X_test), y_true=y_test))"
   ]
  },
  {
   "cell_type": "code",
   "execution_count": 20,
   "metadata": {},
   "outputs": [
    {
     "data": {
      "image/png": "[encoded data removed]",
      "text/plain": [
       "<Figure size 1440x720 with 6 Axes>"
      ]
     },
     "metadata": {
      "needs_background": "light"
     },
     "output_type": "display_data"
    }
   ],
   "source": [
    "plt.figure(figsize=(20, 10))\n",
    "palette = itertools.cycle(sns.color_palette(\"Set2\"))\n",
    "for i, key in enumerate(logloss.keys(), 1):\n",
    "    c = next(palette)\n",
    "    plt.subplot(2,3,i)\n",
    "    sns.lineplot(x=range(1, len(logloss[key])+1), y=logloss[key], color=c) \n",
    "    plt.xlabel('Iteration')\n",
    "    plt.ylabel('Log loss')\n",
    "    plt.title(f'Learning rate: {key}')"
   ]
  },
  {
   "cell_type": "code",
   "execution_count": 21,
   "metadata": {},
   "outputs": [
    {
     "data": {
      "text/html": [
       "<div>\n",
       "<style scoped>\n",
       "    .dataframe tbody tr th:only-of-type {\n",
       "        vertical-align: middle;\n",
       "    }\n",
       "\n",
       "    .dataframe tbody tr th {\n",
       "        vertical-align: top;\n",
       "    }\n",
       "\n",
       "    .dataframe thead th {\n",
       "        text-align: right;\n",
       "    }\n",
       "</style>\n",
       "<table border=\"1\" class=\"dataframe\">\n",
       "  <thead>\n",
       "    <tr style=\"text-align: right;\">\n",
       "      <th></th>\n",
       "      <th>eta</th>\n",
       "      <th>train_metric</th>\n",
       "      <th>test_metric</th>\n",
       "    </tr>\n",
       "  </thead>\n",
       "  <tbody>\n",
       "    <tr>\n",
       "      <th>2</th>\n",
       "      <td>0.0050</td>\n",
       "      <td>0.915797</td>\n",
       "      <td>0.944444</td>\n",
       "    </tr>\n",
       "    <tr>\n",
       "      <th>1</th>\n",
       "      <td>0.0010</td>\n",
       "      <td>0.910926</td>\n",
       "      <td>0.938889</td>\n",
       "    </tr>\n",
       "    <tr>\n",
       "      <th>0</th>\n",
       "      <td>0.0001</td>\n",
       "      <td>0.884482</td>\n",
       "      <td>0.911111</td>\n",
       "    </tr>\n",
       "    <tr>\n",
       "      <th>3</th>\n",
       "      <td>0.0100</td>\n",
       "      <td>0.773138</td>\n",
       "      <td>0.752778</td>\n",
       "    </tr>\n",
       "    <tr>\n",
       "      <th>4</th>\n",
       "      <td>0.1000</td>\n",
       "      <td>0.545581</td>\n",
       "      <td>0.527778</td>\n",
       "    </tr>\n",
       "    <tr>\n",
       "      <th>5</th>\n",
       "      <td>0.5000</td>\n",
       "      <td>0.496868</td>\n",
       "      <td>0.491667</td>\n",
       "    </tr>\n",
       "  </tbody>\n",
       "</table>\n",
       "</div>"
      ],
      "text/plain": [
       "      eta  train_metric  test_metric\n",
       "2  0.0050      0.915797     0.944444\n",
       "1  0.0010      0.910926     0.938889\n",
       "0  0.0001      0.884482     0.911111\n",
       "3  0.0100      0.773138     0.752778\n",
       "4  0.1000      0.545581     0.527778\n",
       "5  0.5000      0.496868     0.491667"
      ]
     },
     "execution_count": 21,
     "metadata": {},
     "output_type": "execute_result"
    }
   ],
   "source": [
    "pd.DataFrame({'eta':eta_val, 'train_metric':train_metric, 'test_metric':test_metric}).\\\n",
    "        sort_values(['test_metric', 'train_metric'], ascending=False)"
   ]
  },
  {
   "cell_type": "markdown",
   "metadata": {},
   "source": [
    "Summary"
   ]
  },
  {
   "cell_type": "markdown",
   "metadata": {},
   "source": [
    "В случае, когда learning rate слишком маленький, при заданном количестве циклов модель не успевает сойтись, так как шаги градиентного спуска слишком маленькие, с другой стороны, с ростом learning rate модель также не может сойтись, так как алгоритм \"проскакивает\" минимум. На примере рассмотренных значений learning rate видно, что при самых низких значениях (0.0001, 0.0010) модель сходится медленно. При увеличении learning rate до 0.1 видно, что алгоритм колеблется около минимального значения, однако не может достич его. При еще большем увеличении learning rate алгоритм и вовсе \"выбрасывает\" на большие значения, то есть достигнуть минимума он не может, а значит и модель не сходится.\n",
    "Эффективно применение изменяющегося learning rate. В начале задаются большие значения, а с ростом итераций - меньшие, таким образом, с одной стороны алгоритм быстрее двигается к минимуму в начале, а с другой - при приближении к минимуму не проскакивает его, так как размер шагов (learning rate) уже небольшой."
   ]
  },
  {
   "cell_type": "markdown",
   "metadata": {},
   "source": [
    "**(0.5 points)** Try different regularization parameter values and compare the model quality."
   ]
  },
  {
   "cell_type": "code",
   "execution_count": 22,
   "metadata": {},
   "outputs": [],
   "source": [
    "C_values = [1.0, 1.5, 2.0, 3.0, 5.0]\n",
    "train_metric, test_metric, logloss = [], [], {}\n",
    "for c in C_values:\n",
    "    clf = CustomLogisticRegression(C=c)\n",
    "    clf.fit(X_train, y_train)\n",
    "\n",
    "    logloss[c] = clf.logloss\n",
    "    train_metric.append( metrics.accuracy_score(y_pred=clf.predict(X_train), y_true=y_train))\n",
    "    test_metric.append(metrics.accuracy_score(y_pred=clf.predict(X_test), y_true=y_test))"
   ]
  },
  {
   "cell_type": "code",
   "execution_count": 23,
   "metadata": {},
   "outputs": [
    {
     "data": {
      "image/png": "[encoded data removed]",
      "text/plain": [
       "<Figure size 1440x720 with 5 Axes>"
      ]
     },
     "metadata": {
      "needs_background": "light"
     },
     "output_type": "display_data"
    }
   ],
   "source": [
    "plt.figure(figsize=(20, 10))\n",
    "palette = itertools.cycle(sns.color_palette(\"Set2\"))\n",
    "\n",
    "for i, key in enumerate(logloss.keys(), 1):\n",
    "    c = next(palette)\n",
    "    plt.subplot(2,3,i)\n",
    "    sns.lineplot(x=range(1, len(logloss[key])+1), y=logloss[key], color=c)\n",
    "    plt.xlabel('Iteration')\n",
    "    plt.ylabel('Log loss')\n",
    "    plt.title(f'Regularization rate: {key}')\n"
   ]
  },
  {
   "cell_type": "code",
   "execution_count": 24,
   "metadata": {},
   "outputs": [
    {
     "data": {
      "text/html": [
       "<div>\n",
       "<style scoped>\n",
       "    .dataframe tbody tr th:only-of-type {\n",
       "        vertical-align: middle;\n",
       "    }\n",
       "\n",
       "    .dataframe tbody tr th {\n",
       "        vertical-align: top;\n",
       "    }\n",
       "\n",
       "    .dataframe thead th {\n",
       "        text-align: right;\n",
       "    }\n",
       "</style>\n",
       "<table border=\"1\" class=\"dataframe\">\n",
       "  <thead>\n",
       "    <tr style=\"text-align: right;\">\n",
       "      <th></th>\n",
       "      <th>C</th>\n",
       "      <th>train_metric</th>\n",
       "      <th>test_metric</th>\n",
       "    </tr>\n",
       "  </thead>\n",
       "  <tbody>\n",
       "    <tr>\n",
       "      <th>3</th>\n",
       "      <td>3.0</td>\n",
       "      <td>0.915101</td>\n",
       "      <td>0.944444</td>\n",
       "    </tr>\n",
       "    <tr>\n",
       "      <th>4</th>\n",
       "      <td>5.0</td>\n",
       "      <td>0.915101</td>\n",
       "      <td>0.944444</td>\n",
       "    </tr>\n",
       "    <tr>\n",
       "      <th>2</th>\n",
       "      <td>2.0</td>\n",
       "      <td>0.913709</td>\n",
       "      <td>0.944444</td>\n",
       "    </tr>\n",
       "    <tr>\n",
       "      <th>1</th>\n",
       "      <td>1.5</td>\n",
       "      <td>0.913013</td>\n",
       "      <td>0.941667</td>\n",
       "    </tr>\n",
       "    <tr>\n",
       "      <th>0</th>\n",
       "      <td>1.0</td>\n",
       "      <td>0.910926</td>\n",
       "      <td>0.938889</td>\n",
       "    </tr>\n",
       "  </tbody>\n",
       "</table>\n",
       "</div>"
      ],
      "text/plain": [
       "     C  train_metric  test_metric\n",
       "3  3.0      0.915101     0.944444\n",
       "4  5.0      0.915101     0.944444\n",
       "2  2.0      0.913709     0.944444\n",
       "1  1.5      0.913013     0.941667\n",
       "0  1.0      0.910926     0.938889"
      ]
     },
     "execution_count": 24,
     "metadata": {},
     "output_type": "execute_result"
    }
   ],
   "source": [
    "pd.DataFrame({'C':C_values, 'train_metric':train_metric, 'test_metric':test_metric}).\\\n",
    "        sort_values(['test_metric', 'train_metric'], ascending=False)"
   ]
  },
  {
   "cell_type": "markdown",
   "metadata": {},
   "source": [
    "С ростом регуляризационного параметра, веса становятся все меньше и модель не может сойтись. В результате растет и ошибка"
   ]
  },
  {
   "cell_type": "markdown",
   "metadata": {},
   "source": [
    "**(0.5 points)** Compare zero initialization and random initialization. "
   ]
  },
  {
   "cell_type": "code",
   "execution_count": 25,
   "metadata": {},
   "outputs": [],
   "source": [
    "\n",
    "zero_model = CustomLogisticRegression(zero_init=True, eta=0.005, max_iter=1000)\n",
    "random_model = CustomLogisticRegression(zero_init=False, eta=0.005, max_iter=1000)\n",
    "zero_model.fit(X_train, y_train)\n",
    "random_model.fit(X_train, y_train)\n",
    "test_acc_zero = metrics.accuracy_score(y_pred=zero_model.predict(X_test), y_true=y_test)\n",
    "test_acc_random = metrics.accuracy_score(y_pred=random_model.predict(X_test), y_true=y_test)\n"
   ]
  },
  {
   "cell_type": "code",
   "execution_count": 26,
   "metadata": {},
   "outputs": [
    {
     "data": {
      "image/png": "[encoded data removed]",
      "text/plain": [
       "<Figure size 1440x432 with 2 Axes>"
      ]
     },
     "metadata": {
      "needs_background": "light"
     },
     "output_type": "display_data"
    }
   ],
   "source": [
    "f,ax=plt.subplots(1,2,figsize=(20, 6))\n",
    "sns.lineplot(x=range(1, len(zero_model.logloss)+1), y=zero_model.logloss, label='zero initialization', ax=ax[0]);\n",
    "sns.lineplot(x=range(1, len(random_model.logloss)+1), y=random_model.logloss, label='random initialization', ax=ax[0])\n",
    "ax[0].set_title(f'Logistic regression with zero and random initialization\\n (all iterations)');\n",
    "ax[0].set_xlabel('Iteration')\n",
    "ax[0].set_ylabel('Log loss')\n",
    "sns.lineplot(x=range(1, 101), y=zero_model.logloss[:100], label='zero initialization', ax=ax[1]);\n",
    "sns.lineplot(x=range(1, 101), y=random_model.logloss[:100], label='random initialization', ax=ax[1])\n",
    "ax[1].set_title(f'Logistic regression with zero and random initialization\\n (100 iterations)');\n",
    "ax[1].set_xlabel('Iteration')\n",
    "ax[1].set_ylabel('Log loss')\n",
    "\n",
    "plt.legend();\n"
   ]
  },
  {
   "cell_type": "markdown",
   "metadata": {},
   "source": [
    "При случайной инициализации коэффициентов модель выдает больший уровень ошибки в начале обучения, однако затем ошибка быстро падает. При инициализации нулями колебания ошибки не так значительны."
   ]
  },
  {
   "cell_type": "markdown",
   "metadata": {},
   "source": [
    "## Part 2: Implementing KNN Classifier"
   ]
  },
  {
   "cell_type": "markdown",
   "metadata": {},
   "source": [
    "In this task you need to implement weighted K-Neighbors Classifier."
   ]
  },
  {
   "cell_type": "markdown",
   "metadata": {},
   "source": [
    "Recall that training a KNN classifier is simply memorizing a training sample. \n",
    "\n",
    "The process of applying a classifier for one object is to find the distances from it to all objects in the training data, then select the k nearest objects (neighbors) and return the most common class among these objects."
   ]
  },
  {
   "cell_type": "markdown",
   "metadata": {},
   "source": [
    "You can also give the nearest neighbors weights in accordance with the distance of the object to them. In the simplest case (as in your assignment), you can set the weights inversely proportional to that distance. \n",
    "\n",
    "$$w_{i} = \\frac{1}{d_{i} + eps},$$\n",
    "\n",
    "where $d_{i}$ is the distance between object and i-th nearest neighbor and $eps$ is the small value to prevent division by zero.\n",
    "\n",
    "In case of 'uniform' weights, all k nearest neighbors are equivalent (have equal weight, for example $w_{i} = 1, \\forall i \\in(1,k)$)."
   ]
  },
  {
   "cell_type": "markdown",
   "metadata": {},
   "source": [
    "To predict the probability of classes, it is necessary to normalize the weights of each class, dividing them by the sum:\n",
    "\n",
    "$$p_{i} = \\frac{w_{i}}{\\sum_{j=1}^{c}w_{j}},$$\n",
    "\n",
    "where $p_i$ is probability of i-th class and $c$ is the number of classes."
   ]
  },
  {
   "cell_type": "markdown",
   "metadata": {},
   "source": [
    "**(2 points)** Implement the algorithm and use it to classify the digits. By implementing this algorithm, you will be able to classify numbers not only into \"even\" or \"odd\", but into their real representation."
   ]
  },
  {
   "cell_type": "code",
   "execution_count": 27,
   "metadata": {},
   "outputs": [],
   "source": [
    "class CustomKNeighborsClassifier:\n",
    "    _estimator_type = \"classifier\"\n",
    "    \n",
    "    def __init__(self, n_neighbors=5, weights='uniform', eps=1e-9):\n",
    "        \"\"\"K-Nearest Neighbors classifier.\n",
    "        \n",
    "        Args:\n",
    "            n_neighbors: int, default=5\n",
    "                Number of neighbors to use by default for :meth:`kneighbors` queries.\n",
    "            weights : {'uniform', 'distance'} or callable, default='uniform'\n",
    "                Weight function used in prediction.  Possible values:\n",
    "                - 'uniform' : uniform weights.  All points in each neighborhood\n",
    "                  are weighted equally.\n",
    "                - 'distance' : weight points by the inverse of their distance.\n",
    "                  in this case, closer neighbors of a query point will have a\n",
    "                  greater influence than neighbors which are further away.\n",
    "            eps : float, default=1e-5\n",
    "                Epsilon to prevent division by 0 \n",
    "        \"\"\"\n",
    "        self.n_neighbors = n_neighbors\n",
    "        self.weights = weights\n",
    "        self.eps = eps\n",
    "        \n",
    "    \n",
    "    def get_pairwise_distances(self, X, Y):\n",
    "        \"\"\"\n",
    "        Returnes matrix of the pairwise distances between the rows from both X and Y.\n",
    "        Args:\n",
    "            X: numpy array of shape (n_samples, n_features)\n",
    "            Y: numpy array of shape (k_samples, n_features)\n",
    "        Returns:\n",
    "            P: numpy array of shape (n_samples, k_samples)\n",
    "                Matrix in which (i, j) value is the distance \n",
    "                between i'th row from the X and j'th row from the Y.\n",
    "        \"\"\"\n",
    "        P = np.linalg.norm(X[:, None, :] - Y[None, :, :], axis=-1)       \n",
    "        return P\n",
    "    \n",
    "    \n",
    "    def get_class_weights(self, y, weights):\n",
    "        \"\"\"\n",
    "        Returns a vector with sum of weights for each class \n",
    "        Args:\n",
    "            y: numpy array of shape (n_samles,)\n",
    "            weights: numpy array of shape (n_samples,)\n",
    "                The weights of the corresponding points of y.\n",
    "        Returns:\n",
    "            p: numpy array of shape (n_classes)\n",
    "                Array where the value at the i-th position \n",
    "                corresponds to the weight of the i-th class.\n",
    "        \"\"\"\n",
    "        p = np.array([np.sum(weights[y == class_k]) for class_k in self.classes_])\n",
    "        return p\n",
    "            \n",
    "        \n",
    "    def fit(self, X, y):\n",
    "        \"\"\"Fit the model.\n",
    "        \n",
    "        Args:\n",
    "            X: numpy array of shape (n_samples, n_features)\n",
    "            y: numpy array of shape (n_samples,)\n",
    "                Target vector.        \n",
    "        \"\"\"\n",
    "        self.points = X\n",
    "        self.y = y\n",
    "        self.classes_ = np.unique(y)\n",
    "        \n",
    "        \n",
    "    def predict_proba(self, X):\n",
    "        \"\"\"Predict positive class probabilities.\n",
    "        \n",
    "        Args:\n",
    "            X: numpy array of shape (n_samples, n_features)\n",
    "        Returns:\n",
    "            y: numpy array of shape (n_samples, n_classes)\n",
    "                Vector containing positive class probabilities.\n",
    "        \"\"\"\n",
    "        if hasattr(self, 'points'):\n",
    "            P = self.get_pairwise_distances(X, self.points)\n",
    "            weights_of_points = np.ones(P.shape)\n",
    "            indices = np.argpartition(P, self.n_neighbors, axis=1)[:, :self.n_neighbors]\n",
    "            if self.weights == 'distance':\n",
    "                weights_of_points = 1/(P+self.eps)\n",
    "                \n",
    "                indices = np.argpartition(weights_of_points, -self.n_neighbors, axis=1)[:, -self.n_neighbors:]\n",
    "            weights_of_nearest = np.take_along_axis(weights_of_points, indices, axis=1) \n",
    "            y_neig = self.y[indices] \n",
    "            y = np.empty([weights_of_nearest.shape[0], len(self.classes_)])\n",
    "            for vec in range(weights_of_nearest.shape[0]):\n",
    "                y[vec, :] = self.get_class_weights(y_neig[vec, :], weights_of_nearest[vec, :])\n",
    "                y[vec, :] = y[vec, :]/np.sum(y[vec, :])\n",
    "            return y       \n",
    "        else: \n",
    "            raise NotFittedError(\"CustomKNeighborsClassifier instance is not fitted yet\")\n",
    "        \n",
    "    def predict(self, X):\n",
    "        \"\"\"Predict classes.\n",
    "        \n",
    "        Args:\n",
    "            X: numpy array of shape (n_samples, n_features)\n",
    "        Returns:\n",
    "            y: numpy array of shape (n_samples,)\n",
    "                Vector containing predicted class labels.\n",
    "        \"\"\"\n",
    "        inx = np.argmax(self.predict_proba(X), axis=1)\n",
    "        y = self.classes_[inx]\n",
    "        return y"
   ]
  },
  {
   "cell_type": "code",
   "execution_count": 28,
   "metadata": {},
   "outputs": [],
   "source": [
    "model = CustomKNeighborsClassifier(n_neighbors=5, weights='distance')\n",
    "knn = KNeighborsClassifier(n_neighbors=5, weights='distance')"
   ]
  },
  {
   "cell_type": "code",
   "execution_count": 29,
   "metadata": {},
   "outputs": [],
   "source": [
    "assert np.allclose(model.get_pairwise_distances(np.array([[0  , 1]  , [1, 1]]), \n",
    "                                                np.array([[0.5, 0.5], [1, 0]])),\n",
    "                   np.array([[0.70710678, 1.41421356],\n",
    "                             [0.70710678, 1.        ]]))"
   ]
  },
  {
   "cell_type": "code",
   "execution_count": 30,
   "metadata": {},
   "outputs": [],
   "source": [
    "model.classes_ = ['one', 'two', 'three']\n",
    "assert np.allclose(model.get_class_weights(np.array(['one', 'one', 'three', 'two']), np.array([1, 1, 0, 4])), \n",
    "                   np.array([2,4,0]))"
   ]
  },
  {
   "cell_type": "code",
   "execution_count": 31,
   "metadata": {},
   "outputs": [
    {
     "data": {
      "image/png": "[encoded data removed]",
      "text/plain": [
       "<Figure size 720x360 with 21 Axes>"
      ]
     },
     "metadata": {
      "needs_background": "light"
     },
     "output_type": "display_data"
    }
   ],
   "source": [
    "X, y = datasets.load_digits(n_class=10, return_X_y=True)\n",
    "\n",
    "_, axes = plt.subplots(nrows=3, ncols=7, figsize=(10, 5))\n",
    "for ax, image, label in zip(axes.flatten(), X, y):\n",
    "    ax.set_axis_off()\n",
    "    ax.imshow(image.reshape((8, 8)), cmap=plt.cm.gray_r if label % 2 else plt.cm.afmhot_r)\n",
    "    ax.set_title(label)\n",
    "\n",
    "X_train, X_test, y_train, y_test = train_test_split(X, y, test_size=0.2, shuffle=True, random_state=42)"
   ]
  },
  {
   "cell_type": "code",
   "execution_count": 32,
   "metadata": {},
   "outputs": [],
   "source": [
    "model.fit(X_train, y_train)\n",
    "knn.fit(X_train, list(map(str, y_train)));"
   ]
  },
  {
   "cell_type": "code",
   "execution_count": 33,
   "metadata": {},
   "outputs": [],
   "source": [
    "assert np.allclose(model.predict_proba(X_test), knn.predict_proba(X_test))"
   ]
  },
  {
   "cell_type": "code",
   "execution_count": 34,
   "metadata": {},
   "outputs": [
    {
     "data": {
      "image/png": "[encoded data removed]",
      "text/plain": [
       "<Figure size 432x288 with 2 Axes>"
      ]
     },
     "metadata": {
      "needs_background": "light"
     },
     "output_type": "display_data"
    }
   ],
   "source": [
    "train_acc, test_acc = fit_evaluate(model, X_train, y_train, X_test, y_test)"
   ]
  },
  {
   "cell_type": "code",
   "execution_count": 35,
   "metadata": {},
   "outputs": [],
   "source": [
    "assert train_acc == 1\n",
    "assert test_acc > 0.98"
   ]
  },
  {
   "cell_type": "markdown",
   "metadata": {},
   "source": [
    "**(0.5 points)** Take a look at the confusion matrix and tell what numbers the model confuses and why this happens."
   ]
  },
  {
   "cell_type": "code",
   "execution_count": 36,
   "metadata": {},
   "outputs": [
    {
     "data": {
      "image/png": "[encoded data removed]",
      "text/plain": [
       "<Figure size 720x216 with 5 Axes>"
      ]
     },
     "metadata": {
      "needs_background": "light"
     },
     "output_type": "display_data"
    }
   ],
   "source": [
    "pred = model.predict(X_test)\n",
    "_, axes = plt.subplots(nrows=1, ncols=5, figsize=(10, 3))\n",
    "for ax, image, label in zip(axes.flatten(), X_test[np.where(y_test!=pred)], pred[np.where(y_test!=pred)]):\n",
    "    ax.set_axis_off()\n",
    "    ax.imshow(image.reshape((8, 8)), cmap=plt.cm.gray_r if label % 2 else plt.cm.afmhot_r)\n",
    "    ax.set_title(label)"
   ]
  },
  {
   "cell_type": "markdown",
   "metadata": {},
   "source": [
    "Модель в целом показывает очень хорошие метрики. Некоторая неточность показана для классов 5, 7 и 9. Класс 5 в 2.1% случаев определяется как 6, и в 2.1% случаев - как 9. Класс 7 в 2.9% случаев определяется как 9, а класс 9 - как 4 и 5 в 2.5% случаев. В целом, это предсказуемо, так как написание цифр похоже."
   ]
  },
  {
   "cell_type": "markdown",
   "metadata": {},
   "source": [
    "**(0.5 points)** Try different n_neighbors parameters and compare the output probabilities of the model."
   ]
  },
  {
   "cell_type": "code",
   "execution_count": 37,
   "metadata": {},
   "outputs": [],
   "source": [
    "error = []\n",
    "\n",
    "for i in range(1, 40):\n",
    "    knn = CustomKNeighborsClassifier(n_neighbors=i, weights='distance')\n",
    "    knn.fit(X_train, y_train)\n",
    "    pred_i = knn.predict(X_test)\n",
    "    error.append(np.mean(pred_i != y_test))"
   ]
  },
  {
   "cell_type": "code",
   "execution_count": 38,
   "metadata": {},
   "outputs": [
    {
     "data": {
      "image/png": "[encoded data removed]",
      "text/plain": [
       "<Figure size 720x360 with 1 Axes>"
      ]
     },
     "metadata": {
      "needs_background": "light"
     },
     "output_type": "display_data"
    }
   ],
   "source": [
    "plt.figure(figsize=(10, 5))\n",
    "plt.plot(range(1, 40), error, color=sns.color_palette(\"Set2\")[0], linestyle='dashed', marker='o', markersize=7, )\n",
    "plt.title('Number of neighbors to Error Rate')\n",
    "plt.xlabel('n_neighbors')\n",
    "plt.ylabel('mean error');"
   ]
  },
  {
   "cell_type": "markdown",
   "metadata": {},
   "source": [
    "Поиск оптимального значения параметра n_neighbors - это оптимизационная задача. В случае, если значение слишком маленькое (например, 1), модель переобучается, при увеличение количества учитываемых соседей, ошибка снижается и достигает минимума (в нашем случае при значении 5 и 6), а затем начинает расти опять, так как начинают учитываться слишком далекие наблюдения.\n"
   ]
  },
  {
   "cell_type": "markdown",
   "metadata": {},
   "source": [
    "**(0.5 points)** Compare both 'uniform' and 'distance' weights and share your thoughts in what situations which parameter can be better."
   ]
  },
  {
   "cell_type": "code",
   "execution_count": 39,
   "metadata": {},
   "outputs": [
    {
     "data": {
      "image/png": "[encoded data removed]",
      "text/plain": [
       "<Figure size 1080x720 with 8 Axes>"
      ]
     },
     "metadata": {
      "needs_background": "light"
     },
     "output_type": "display_data"
    }
   ],
   "source": [
    "test_metric = []\n",
    "fig, axes = plt.subplots(nrows=2, ncols=2, figsize=(15,10))\n",
    "w_type = ['distance', 'uniform', 'distance', 'uniform']\n",
    "neib_all = [6, 6, 20, 20]\n",
    "\n",
    "for w, n, ax in zip(w_type, neib_all, axes.flatten()):\n",
    "        knn = CustomKNeighborsClassifier(n_neighbors=n, weights=w)\n",
    "        knn.fit(X_train, y_train)\n",
    "        test_metric.append(metrics.accuracy_score(y_pred=knn.predict(X_test), y_true=y_test))\n",
    "        plot_confusion_matrix(knn, X_test,y_test, normalize='true',\n",
    "                              ax=ax)\n",
    "        ax.title.set_text(f'Weights: {w}, N_neighbors: {n}')\n",
    "        plt.tight_layout()  \n"
   ]
  },
  {
   "cell_type": "code",
   "execution_count": 40,
   "metadata": {},
   "outputs": [
    {
     "data": {
      "text/html": [
       "<div>\n",
       "<style scoped>\n",
       "    .dataframe tbody tr th:only-of-type {\n",
       "        vertical-align: middle;\n",
       "    }\n",
       "\n",
       "    .dataframe tbody tr th {\n",
       "        vertical-align: top;\n",
       "    }\n",
       "\n",
       "    .dataframe thead th {\n",
       "        text-align: right;\n",
       "    }\n",
       "</style>\n",
       "<table border=\"1\" class=\"dataframe\">\n",
       "  <thead>\n",
       "    <tr style=\"text-align: right;\">\n",
       "      <th></th>\n",
       "      <th>weights</th>\n",
       "      <th>n_neighbors</th>\n",
       "      <th>test_metric</th>\n",
       "    </tr>\n",
       "  </thead>\n",
       "  <tbody>\n",
       "    <tr>\n",
       "      <th>0</th>\n",
       "      <td>distance</td>\n",
       "      <td>6</td>\n",
       "      <td>0.988889</td>\n",
       "    </tr>\n",
       "    <tr>\n",
       "      <th>1</th>\n",
       "      <td>uniform</td>\n",
       "      <td>6</td>\n",
       "      <td>0.988889</td>\n",
       "    </tr>\n",
       "    <tr>\n",
       "      <th>2</th>\n",
       "      <td>distance</td>\n",
       "      <td>20</td>\n",
       "      <td>0.977778</td>\n",
       "    </tr>\n",
       "    <tr>\n",
       "      <th>3</th>\n",
       "      <td>uniform</td>\n",
       "      <td>20</td>\n",
       "      <td>0.977778</td>\n",
       "    </tr>\n",
       "  </tbody>\n",
       "</table>\n",
       "</div>"
      ],
      "text/plain": [
       "    weights  n_neighbors  test_metric\n",
       "0  distance            6     0.988889\n",
       "1   uniform            6     0.988889\n",
       "2  distance           20     0.977778\n",
       "3   uniform           20     0.977778"
      ]
     },
     "execution_count": 40,
     "metadata": {},
     "output_type": "execute_result"
    }
   ],
   "source": [
    "\n",
    "pd.DataFrame({'weights': w_type, 'n_neighbors': neib_all, 'test_metric':test_metric}).\\\n",
    "        sort_values(['test_metric'], ascending=False)"
   ]
  },
  {
   "cell_type": "markdown",
   "metadata": {},
   "source": [
    "При \"uniform\" параметре все учитываемые ближайшие наблюдения (\"соседи\") рассматриваются с одинаковыми весами, при \"distance\" параметре большие веса даются более близким наблюдениями среди \"соседей\". В зависимости от структуры данных оба метода могут показать лучшие результаты. Параметр, как правило, подбирается экспериментально. В нашем случае различия не велики, хотя при большом количестве учитываемых \"соседей\" отдельные классы начинают предсказываться по-разному.\n"
   ]
  },
  {
   "cell_type": "markdown",
   "metadata": {},
   "source": [
    "**(0.5 points)** Suggest another distance measurement function that could improve the quality of the classification for this task. "
   ]
  },
  {
   "cell_type": "code",
   "execution_count": 41,
   "metadata": {},
   "outputs": [
    {
     "data": {
      "image/png": "[encoded data removed]",
      "text/plain": [
       "<Figure size 432x288 with 2 Axes>"
      ]
     },
     "metadata": {
      "needs_background": "light"
     },
     "output_type": "display_data"
    }
   ],
   "source": [
    "knn = KNeighborsClassifier(n_neighbors=5, weights='distance')\n",
    "train_acc, test_acc = fit_evaluate(model, X_train, y_train, X_test, y_test)"
   ]
  },
  {
   "cell_type": "code",
   "execution_count": 42,
   "metadata": {},
   "outputs": [
    {
     "data": {
      "text/html": [
       "<div>\n",
       "<style scoped>\n",
       "    .dataframe tbody tr th:only-of-type {\n",
       "        vertical-align: middle;\n",
       "    }\n",
       "\n",
       "    .dataframe tbody tr th {\n",
       "        vertical-align: top;\n",
       "    }\n",
       "\n",
       "    .dataframe thead th {\n",
       "        text-align: right;\n",
       "    }\n",
       "</style>\n",
       "<table border=\"1\" class=\"dataframe\">\n",
       "  <thead>\n",
       "    <tr style=\"text-align: right;\">\n",
       "      <th></th>\n",
       "      <th>metric</th>\n",
       "      <th>test_metric</th>\n",
       "    </tr>\n",
       "  </thead>\n",
       "  <tbody>\n",
       "    <tr>\n",
       "      <th>1</th>\n",
       "      <td>minkowski</td>\n",
       "      <td>0.988889</td>\n",
       "    </tr>\n",
       "    <tr>\n",
       "      <th>0</th>\n",
       "      <td>euclidean</td>\n",
       "      <td>0.986111</td>\n",
       "    </tr>\n",
       "    <tr>\n",
       "      <th>2</th>\n",
       "      <td>chebyshev</td>\n",
       "      <td>0.980556</td>\n",
       "    </tr>\n",
       "    <tr>\n",
       "      <th>3</th>\n",
       "      <td>manhattan</td>\n",
       "      <td>0.980556</td>\n",
       "    </tr>\n",
       "  </tbody>\n",
       "</table>\n",
       "</div>"
      ],
      "text/plain": [
       "      metric  test_metric\n",
       "1  minkowski     0.988889\n",
       "0  euclidean     0.986111\n",
       "2  chebyshev     0.980556\n",
       "3  manhattan     0.980556"
      ]
     },
     "execution_count": 42,
     "metadata": {},
     "output_type": "execute_result"
    }
   ],
   "source": [
    "test_metric = []\n",
    "dist = ['euclidean', 'minkowski', 'chebyshev', 'manhattan']\n",
    "\n",
    "for m, ax in zip(dist, axes.flatten()):\n",
    "    if m=='minkowski':\n",
    "        knn = KNeighborsClassifier(n_neighbors=5, metric=m, p=4)\n",
    "    else:\n",
    "        knn = KNeighborsClassifier(n_neighbors=5, metric=m)\n",
    "    knn.fit(X_train, y_train)\n",
    "    test_metric.append(metrics.accuracy_score(y_pred=knn.predict(X_test), y_true=y_test))\n",
    "pd.DataFrame({'metric': dist, 'test_metric':test_metric}).\\\n",
    "        sort_values(['test_metric'], ascending=False)"
   ]
  },
  {
   "cell_type": "markdown",
   "metadata": {},
   "source": [
    "KNN использует различные функции измерения расстояния между объектами. Кроме Euclidean Distance популярными также являются \n",
    "Manhattan Distance $sum(|x - y|)$, Cheybchev Distance $max(|x - y|)$, Minkowski Distance $sum(w * |x - y|^p)^{(1/p)}$.\n",
    "В нашем случае лучшие результаты получены при использовании Minkowski Distance (при n_neighbors=5).\n"
   ]
  },
  {
   "cell_type": "markdown",
   "metadata": {},
   "source": [
    "**(0.5 points)** Suggest different task and distance function that you think would be suitable for it."
   ]
  },
  {
   "cell_type": "markdown",
   "metadata": {},
   "source": [
    "Дистанционные функции подбираются в завасимости от задачи. Например, вышеописанные подходят для рассчета расстояний между числовыми векторами. \n",
    "Другим примером задач является рассчет растояния между текстами или булевыеми векторами. Для них подойдет Hamming distance.\n",
    " "
   ]
  },
  {
   "cell_type": "markdown",
   "metadata": {},
   "source": [
    "## Part 3: Synthetic Titanic Survival Prediction"
   ]
  },
  {
   "cell_type": "markdown",
   "metadata": {},
   "source": [
    "### Dataset\n",
    "\n",
    "Read the description here: https://www.kaggle.com/c/tabular-playground-series-apr-2021/data. Download the dataset and place it in the *data/titanic/* folder in your working directory.\n",
    "You will use train.csv for model training and validation. The test set is used for model testing: once the model is trained, you can predict whether a passenger survived or not for each passenger in the test set, and submit the predictions: https://www.kaggle.com/c/tabular-playground-series-apr-2021/overview/evaluation.  \n"
   ]
  },
  {
   "cell_type": "code",
   "execution_count": 43,
   "metadata": {},
   "outputs": [],
   "source": [
    "PATH = \"./data/\""
   ]
  },
  {
   "cell_type": "code",
   "execution_count": 44,
   "metadata": {},
   "outputs": [],
   "source": [
    "data = pd.read_csv(os.path.join(PATH, 'titanic', 'train.csv')).set_index('PassengerId')"
   ]
  },
  {
   "cell_type": "code",
   "execution_count": 45,
   "metadata": {
    "scrolled": true
   },
   "outputs": [
    {
     "data": {
      "text/html": [
       "<div>\n",
       "<style scoped>\n",
       "    .dataframe tbody tr th:only-of-type {\n",
       "        vertical-align: middle;\n",
       "    }\n",
       "\n",
       "    .dataframe tbody tr th {\n",
       "        vertical-align: top;\n",
       "    }\n",
       "\n",
       "    .dataframe thead th {\n",
       "        text-align: right;\n",
       "    }\n",
       "</style>\n",
       "<table border=\"1\" class=\"dataframe\">\n",
       "  <thead>\n",
       "    <tr style=\"text-align: right;\">\n",
       "      <th></th>\n",
       "      <th>Survived</th>\n",
       "      <th>Pclass</th>\n",
       "      <th>Name</th>\n",
       "      <th>Sex</th>\n",
       "      <th>Age</th>\n",
       "      <th>SibSp</th>\n",
       "      <th>Parch</th>\n",
       "      <th>Ticket</th>\n",
       "      <th>Fare</th>\n",
       "      <th>Cabin</th>\n",
       "      <th>Embarked</th>\n",
       "    </tr>\n",
       "    <tr>\n",
       "      <th>PassengerId</th>\n",
       "      <th></th>\n",
       "      <th></th>\n",
       "      <th></th>\n",
       "      <th></th>\n",
       "      <th></th>\n",
       "      <th></th>\n",
       "      <th></th>\n",
       "      <th></th>\n",
       "      <th></th>\n",
       "      <th></th>\n",
       "      <th></th>\n",
       "    </tr>\n",
       "  </thead>\n",
       "  <tbody>\n",
       "    <tr>\n",
       "      <th>0</th>\n",
       "      <td>1</td>\n",
       "      <td>1</td>\n",
       "      <td>Oconnor, Frankie</td>\n",
       "      <td>male</td>\n",
       "      <td>NaN</td>\n",
       "      <td>2</td>\n",
       "      <td>0</td>\n",
       "      <td>209245</td>\n",
       "      <td>27.14</td>\n",
       "      <td>C12239</td>\n",
       "      <td>S</td>\n",
       "    </tr>\n",
       "    <tr>\n",
       "      <th>1</th>\n",
       "      <td>0</td>\n",
       "      <td>3</td>\n",
       "      <td>Bryan, Drew</td>\n",
       "      <td>male</td>\n",
       "      <td>NaN</td>\n",
       "      <td>0</td>\n",
       "      <td>0</td>\n",
       "      <td>27323</td>\n",
       "      <td>13.35</td>\n",
       "      <td>NaN</td>\n",
       "      <td>S</td>\n",
       "    </tr>\n",
       "    <tr>\n",
       "      <th>2</th>\n",
       "      <td>0</td>\n",
       "      <td>3</td>\n",
       "      <td>Owens, Kenneth</td>\n",
       "      <td>male</td>\n",
       "      <td>0.33</td>\n",
       "      <td>1</td>\n",
       "      <td>2</td>\n",
       "      <td>CA 457703</td>\n",
       "      <td>71.29</td>\n",
       "      <td>NaN</td>\n",
       "      <td>S</td>\n",
       "    </tr>\n",
       "    <tr>\n",
       "      <th>3</th>\n",
       "      <td>0</td>\n",
       "      <td>3</td>\n",
       "      <td>Kramer, James</td>\n",
       "      <td>male</td>\n",
       "      <td>19.00</td>\n",
       "      <td>0</td>\n",
       "      <td>0</td>\n",
       "      <td>A. 10866</td>\n",
       "      <td>13.04</td>\n",
       "      <td>NaN</td>\n",
       "      <td>S</td>\n",
       "    </tr>\n",
       "    <tr>\n",
       "      <th>4</th>\n",
       "      <td>1</td>\n",
       "      <td>3</td>\n",
       "      <td>Bond, Michael</td>\n",
       "      <td>male</td>\n",
       "      <td>25.00</td>\n",
       "      <td>0</td>\n",
       "      <td>0</td>\n",
       "      <td>427635</td>\n",
       "      <td>7.76</td>\n",
       "      <td>NaN</td>\n",
       "      <td>S</td>\n",
       "    </tr>\n",
       "  </tbody>\n",
       "</table>\n",
       "</div>"
      ],
      "text/plain": [
       "             Survived  Pclass              Name   Sex    Age  SibSp  Parch  \\\n",
       "PassengerId                                                                  \n",
       "0                   1       1  Oconnor, Frankie  male    NaN      2      0   \n",
       "1                   0       3       Bryan, Drew  male    NaN      0      0   \n",
       "2                   0       3    Owens, Kenneth  male   0.33      1      2   \n",
       "3                   0       3     Kramer, James  male  19.00      0      0   \n",
       "4                   1       3     Bond, Michael  male  25.00      0      0   \n",
       "\n",
       "                Ticket   Fare   Cabin Embarked  \n",
       "PassengerId                                     \n",
       "0               209245  27.14  C12239        S  \n",
       "1                27323  13.35     NaN        S  \n",
       "2            CA 457703  71.29     NaN        S  \n",
       "3             A. 10866  13.04     NaN        S  \n",
       "4               427635   7.76     NaN        S  "
      ]
     },
     "execution_count": 45,
     "metadata": {},
     "output_type": "execute_result"
    }
   ],
   "source": [
    "data.head()"
   ]
  },
  {
   "cell_type": "markdown",
   "metadata": {},
   "source": [
    "### EDA"
   ]
  },
  {
   "cell_type": "markdown",
   "metadata": {},
   "source": [
    "**(0.5 points)** How many females and males are there in the dataset? What about the survived passengers? Is there any relationship between the gender and the survival?"
   ]
  },
  {
   "cell_type": "code",
   "execution_count": 46,
   "metadata": {},
   "outputs": [
    {
     "data": {
      "image/png": "[encoded data removed]",
      "text/plain": [
       "<Figure size 1440x432 with 3 Axes>"
      ]
     },
     "metadata": {
      "needs_background": "light"
     },
     "output_type": "display_data"
    }
   ],
   "source": [
    "f,ax=plt.subplots(1,3,figsize=(20, 6))\n",
    "sns.countplot(x=\"Sex\", data=data ,ax=ax[0], palette=\"Set3\")\n",
    "ax[0].set_title('Number Of Passengers By Sex')\n",
    "sns.barplot(x='Sex',y='Survived', data=data, ax=ax[1], palette=\"Set2\" )\n",
    "ax[1].set_title('Sex: Survived vs Not Survived');\n",
    "sns.countplot(x='Sex',hue='Survived',data=data, ax=ax[2],  palette=\"Set3\" )\n",
    "ax[2].set_title('Sex: Survived vs Not Survived');"
   ]
  },
  {
   "cell_type": "markdown",
   "metadata": {},
   "source": [
    "Несмотря на то, что количество пассажиров мужского пола превышает количество пассажиров женского пола (56.11% и 43.89%, соответственно), процент выживших женщин составляет 71.15%, в то время как среди мужчин выжили только 20.58%."
   ]
  },
  {
   "cell_type": "markdown",
   "metadata": {},
   "source": [
    "**(0.5 points)** Plot age distribution of the passengers. What is the average and the median age of survived and deceased passengers? Do age distributions differ for survived and deceased passengers? Why?"
   ]
  },
  {
   "cell_type": "code",
   "execution_count": 47,
   "metadata": {},
   "outputs": [
    {
     "data": {
      "image/png": "[encoded data removed]",
      "text/plain": [
       "<Figure size 1440x432 with 2 Axes>"
      ]
     },
     "metadata": {
      "needs_background": "light"
     },
     "output_type": "display_data"
    }
   ],
   "source": [
    "f,ax=plt.subplots(1,2,figsize=(20, 6))\n",
    "sns.kdeplot(data=data, x=\"Age\",\n",
    "   fill=True, common_norm=False, \n",
    "   alpha=.5, linewidth=0, ax=ax[0], palette=\"Set1\")\n",
    "ax[0].axvline(x=data['Age'].mean(),  color = 'red', label = 'Mean')\n",
    "ax[0].axvline(x=data['Age'].median(), linestyle = '--', color = 'purple', label = 'Median')\n",
    "ax[0].legend(['Mean','Median','Age'])\n",
    "ax[0].set_title('Age')\n",
    "\n",
    "sns.kdeplot(data=data, x=\"Age\", hue=\"Survived\",\n",
    "   fill=True, common_norm=False, ax=ax[1], alpha=.5, linewidth=0) \n",
    "ax[1].set_title('Age: Men vs Women')\n",
    "\n",
    "ax[1].axvline(x=data.loc[data.Survived==0, 'Age'].mean(),   color = 'red', label = 'Mean Not Survived')\n",
    "ax[1].axvline(x=data.loc[data.Survived==0, 'Age'].median(), linestyle = '--', color = 'purple', label = 'Median Not Survived')\n",
    "ax[1].axvline(x=data.loc[data.Survived==1, 'Age'].mean(),   color = 'lime', label = 'Mean Survived')\n",
    "ax[1].axvline(x=data.loc[data.Survived==1, 'Age'].median(), linestyle = '--', color = 'green', label = 'Median Survived')\n",
    "ax[1].legend(['Mean Not Survived','Median Not Survived','Mean Survived', 'Median Survived', 'Survived', 'Not Survived'])\n",
    "ax[1].set_title('Age: Survived vs Not Survived')\n",
    "\n",
    "plt.show()"
   ]
  },
  {
   "cell_type": "code",
   "execution_count": 48,
   "metadata": {},
   "outputs": [
    {
     "data": {
      "text/html": [
       "<div>\n",
       "<style scoped>\n",
       "    .dataframe tbody tr th:only-of-type {\n",
       "        vertical-align: middle;\n",
       "    }\n",
       "\n",
       "    .dataframe tbody tr th {\n",
       "        vertical-align: top;\n",
       "    }\n",
       "\n",
       "    .dataframe thead th {\n",
       "        text-align: right;\n",
       "    }\n",
       "</style>\n",
       "<table border=\"1\" class=\"dataframe\">\n",
       "  <thead>\n",
       "    <tr style=\"text-align: right;\">\n",
       "      <th></th>\n",
       "      <th>count</th>\n",
       "      <th>mean</th>\n",
       "      <th>std</th>\n",
       "      <th>min</th>\n",
       "      <th>25%</th>\n",
       "      <th>50%</th>\n",
       "      <th>75%</th>\n",
       "      <th>max</th>\n",
       "      <th>median</th>\n",
       "    </tr>\n",
       "  </thead>\n",
       "  <tbody>\n",
       "    <tr>\n",
       "      <th>Age</th>\n",
       "      <td>96708.0</td>\n",
       "      <td>38.355472</td>\n",
       "      <td>18.313556</td>\n",
       "      <td>0.08</td>\n",
       "      <td>25.0</td>\n",
       "      <td>39.0</td>\n",
       "      <td>53.0</td>\n",
       "      <td>87.0</td>\n",
       "      <td>39.0</td>\n",
       "    </tr>\n",
       "    <tr>\n",
       "      <th>0</th>\n",
       "      <td>55290.0</td>\n",
       "      <td>36.708695</td>\n",
       "      <td>17.809058</td>\n",
       "      <td>0.08</td>\n",
       "      <td>24.0</td>\n",
       "      <td>36.0</td>\n",
       "      <td>52.0</td>\n",
       "      <td>83.0</td>\n",
       "      <td>36.0</td>\n",
       "    </tr>\n",
       "    <tr>\n",
       "      <th>1</th>\n",
       "      <td>41418.0</td>\n",
       "      <td>40.553799</td>\n",
       "      <td>18.742172</td>\n",
       "      <td>0.08</td>\n",
       "      <td>27.0</td>\n",
       "      <td>43.0</td>\n",
       "      <td>55.0</td>\n",
       "      <td>87.0</td>\n",
       "      <td>43.0</td>\n",
       "    </tr>\n",
       "  </tbody>\n",
       "</table>\n",
       "</div>"
      ],
      "text/plain": [
       "       count       mean        std   min   25%   50%   75%   max  median\n",
       "Age  96708.0  38.355472  18.313556  0.08  25.0  39.0  53.0  87.0    39.0\n",
       "0    55290.0  36.708695  17.809058  0.08  24.0  36.0  52.0  83.0    36.0\n",
       "1    41418.0  40.553799  18.742172  0.08  27.0  43.0  55.0  87.0    43.0"
      ]
     },
     "execution_count": 48,
     "metadata": {},
     "output_type": "execute_result"
    }
   ],
   "source": [
    "median_serv = pd.DataFrame(data.groupby('Survived')['Age'].median()).rename(columns={'Age':'median'})\n",
    "age_serv = data.groupby('Survived')['Age'].describe().merge(median_serv, left_index=True, right_index=True)\n",
    "median = pd.DataFrame({'median':data['Age'].median()}, index=['Age'])\n",
    "age = pd.DataFrame(data['Age'].describe()).T.merge(median, left_index=True, right_index=True)\n",
    "pd.concat([age, age_serv])"
   ]
  },
  {
   "cell_type": "markdown",
   "metadata": {},
   "source": [
    "При анализе связи возраста и вероятности выживания видно, что наименьшая вероятность выжить была в диапазоне 25-36 лет (средняя и медиана около 36). Среди выживших средний возраст составил 40.6 лет с медианой - 43.0. То есть в среднем возраст выживших был выше."
   ]
  },
  {
   "cell_type": "markdown",
   "metadata": {},
   "source": [
    "**(1 point)** Explore \"passenger class\" and \"embarked\" features. What class was \"the safest\"? Is there any relationship between the embarkation port and the survival? Provide the corresponding visualizations."
   ]
  },
  {
   "cell_type": "code",
   "execution_count": 49,
   "metadata": {},
   "outputs": [
    {
     "data": {
      "image/png": "[encoded data removed]",
      "text/plain": [
       "<Figure size 1440x432 with 4 Axes>"
      ]
     },
     "metadata": {
      "needs_background": "light"
     },
     "output_type": "display_data"
    }
   ],
   "source": [
    "f,ax=plt.subplots(1,4,figsize=(20, 6))\n",
    "sns.countplot(x=\"Embarked\", data=data ,ax=ax[0], palette=\"Set3\")\n",
    "ax[0].set_title('Number Of Passengers By Embarked')\n",
    "\n",
    "sns.countplot(x='Embarked',hue='Survived',data=data, ax=ax[1])\n",
    "ax[1].set_title('Embarked: Survived vs Not Survived')\n",
    "\n",
    "sns.countplot(x='Pclass',data=data, ax=ax[2], palette=\"Set3\" )\n",
    "ax[2].set_title('Number Of Passengers By Class')\n",
    "\n",
    "sns.countplot(x='Pclass',hue='Survived', data=data, ax=ax[3], )\n",
    "ax[3].set_title('Class: Survived vs Not Survived')\n",
    "\n",
    "plt.show()"
   ]
  },
  {
   "cell_type": "code",
   "execution_count": 50,
   "metadata": {},
   "outputs": [
    {
     "data": {
      "image/png": "[encoded data removed]",
      "text/plain": [
       "<Figure size 432.65x288 with 1 Axes>"
      ]
     },
     "metadata": {
      "needs_background": "light"
     },
     "output_type": "display_data"
    }
   ],
   "source": [
    "sns.catplot(x=\"Pclass\", y=\"Survived\", hue=\"Embarked\", kind=\"point\", data=data, height=4, aspect=1.3);"
   ]
  },
  {
   "cell_type": "code",
   "execution_count": 51,
   "metadata": {},
   "outputs": [
    {
     "data": {
      "text/plain": [
       "3    0.41006\n",
       "1    0.30315\n",
       "2    0.28679\n",
       "Name: Pclass, dtype: float64"
      ]
     },
     "execution_count": 51,
     "metadata": {},
     "output_type": "execute_result"
    }
   ],
   "source": [
    "data.Pclass.value_counts(normalize=True)\n"
   ]
  },
  {
   "cell_type": "code",
   "execution_count": 52,
   "metadata": {},
   "outputs": [
    {
     "data": {
      "text/html": [
       "<div>\n",
       "<style scoped>\n",
       "    .dataframe tbody tr th:only-of-type {\n",
       "        vertical-align: middle;\n",
       "    }\n",
       "\n",
       "    .dataframe tbody tr th {\n",
       "        vertical-align: top;\n",
       "    }\n",
       "\n",
       "    .dataframe thead th {\n",
       "        text-align: right;\n",
       "    }\n",
       "</style>\n",
       "<table border=\"1\" class=\"dataframe\">\n",
       "  <thead>\n",
       "    <tr style=\"text-align: right;\">\n",
       "      <th></th>\n",
       "      <th></th>\n",
       "      <th>Survived</th>\n",
       "    </tr>\n",
       "    <tr>\n",
       "      <th>Pclass</th>\n",
       "      <th>Survived</th>\n",
       "      <th></th>\n",
       "    </tr>\n",
       "  </thead>\n",
       "  <tbody>\n",
       "    <tr>\n",
       "      <th rowspan=\"2\" valign=\"top\">1</th>\n",
       "      <th>1</th>\n",
       "      <td>0.579779</td>\n",
       "    </tr>\n",
       "    <tr>\n",
       "      <th>0</th>\n",
       "      <td>0.420221</td>\n",
       "    </tr>\n",
       "    <tr>\n",
       "      <th rowspan=\"2\" valign=\"top\">2</th>\n",
       "      <th>1</th>\n",
       "      <td>0.525018</td>\n",
       "    </tr>\n",
       "    <tr>\n",
       "      <th>0</th>\n",
       "      <td>0.474982</td>\n",
       "    </tr>\n",
       "    <tr>\n",
       "      <th rowspan=\"2\" valign=\"top\">3</th>\n",
       "      <th>0</th>\n",
       "      <td>0.752695</td>\n",
       "    </tr>\n",
       "    <tr>\n",
       "      <th>1</th>\n",
       "      <td>0.247305</td>\n",
       "    </tr>\n",
       "  </tbody>\n",
       "</table>\n",
       "</div>"
      ],
      "text/plain": [
       "                 Survived\n",
       "Pclass Survived          \n",
       "1      1         0.579779\n",
       "       0         0.420221\n",
       "2      1         0.525018\n",
       "       0         0.474982\n",
       "3      0         0.752695\n",
       "       1         0.247305"
      ]
     },
     "execution_count": 52,
     "metadata": {},
     "output_type": "execute_result"
    }
   ],
   "source": [
    "pd.DataFrame(data.groupby('Pclass')['Survived'].value_counts(normalize=True))"
   ]
  },
  {
   "cell_type": "code",
   "execution_count": 53,
   "metadata": {},
   "outputs": [
    {
     "data": {
      "text/plain": [
       "S    0.723198\n",
       "C    0.222426\n",
       "Q    0.054376\n",
       "Name: Embarked, dtype: float64"
      ]
     },
     "execution_count": 53,
     "metadata": {},
     "output_type": "execute_result"
    }
   ],
   "source": [
    "data.Embarked.value_counts(normalize=True)"
   ]
  },
  {
   "cell_type": "code",
   "execution_count": 54,
   "metadata": {},
   "outputs": [
    {
     "data": {
      "text/html": [
       "<div>\n",
       "<style scoped>\n",
       "    .dataframe tbody tr th:only-of-type {\n",
       "        vertical-align: middle;\n",
       "    }\n",
       "\n",
       "    .dataframe tbody tr th {\n",
       "        vertical-align: top;\n",
       "    }\n",
       "\n",
       "    .dataframe thead th {\n",
       "        text-align: right;\n",
       "    }\n",
       "</style>\n",
       "<table border=\"1\" class=\"dataframe\">\n",
       "  <thead>\n",
       "    <tr style=\"text-align: right;\">\n",
       "      <th></th>\n",
       "      <th></th>\n",
       "      <th>Survived</th>\n",
       "    </tr>\n",
       "    <tr>\n",
       "      <th>Embarked</th>\n",
       "      <th>Survived</th>\n",
       "      <th></th>\n",
       "    </tr>\n",
       "  </thead>\n",
       "  <tbody>\n",
       "    <tr>\n",
       "      <th rowspan=\"2\" valign=\"top\">C</th>\n",
       "      <th>1</th>\n",
       "      <td>0.751296</td>\n",
       "    </tr>\n",
       "    <tr>\n",
       "      <th>0</th>\n",
       "      <td>0.248704</td>\n",
       "    </tr>\n",
       "    <tr>\n",
       "      <th rowspan=\"2\" valign=\"top\">Q</th>\n",
       "      <th>1</th>\n",
       "      <td>0.596976</td>\n",
       "    </tr>\n",
       "    <tr>\n",
       "      <th>0</th>\n",
       "      <td>0.403024</td>\n",
       "    </tr>\n",
       "    <tr>\n",
       "      <th rowspan=\"2\" valign=\"top\">S</th>\n",
       "      <th>0</th>\n",
       "      <td>0.684706</td>\n",
       "    </tr>\n",
       "    <tr>\n",
       "      <th>1</th>\n",
       "      <td>0.315294</td>\n",
       "    </tr>\n",
       "  </tbody>\n",
       "</table>\n",
       "</div>"
      ],
      "text/plain": [
       "                   Survived\n",
       "Embarked Survived          \n",
       "C        1         0.751296\n",
       "         0         0.248704\n",
       "Q        1         0.596976\n",
       "         0         0.403024\n",
       "S        0         0.684706\n",
       "         1         0.315294"
      ]
     },
     "execution_count": 54,
     "metadata": {},
     "output_type": "execute_result"
    }
   ],
   "source": [
    "pd.DataFrame(data.groupby('Embarked')['Survived'].value_counts(normalize=True))"
   ]
  },
  {
   "cell_type": "markdown",
   "metadata": {},
   "source": [
    "По признаку Class наибольшее число пассажиров принадлежали к третьему классу (41.0%), однако количество выживших среди них составило только 24.73%, в то время как процент выживших 1 и 2 класса составил 57.97% и 52.50%, соответственно.\n",
    "По признаку Embarked наибольшее число пассажиров направлялось в порт S (72.32%), однако количество выживших среди них составило только 31.53%, в то время как процент выживших среди пассажиров, у которых билеты были до портов С и Q, составили, соответственно, 75.12% и  59.70%.\n",
    "При анализе взаимосвязи признаков порт S направлялось 35895 пассажиров 3 класса, то есть 35.9% \n",
    "Проанализируем влияние комбинации категорий признаков Sex и Pclass на вероятность выживания."
   ]
  },
  {
   "cell_type": "markdown",
   "metadata": {},
   "source": [
    "### Modelling"
   ]
  },
  {
   "cell_type": "markdown",
   "metadata": {},
   "source": [
    "**(0.5 points)** Find the percentage of missing values for each feature. "
   ]
  },
  {
   "cell_type": "code",
   "execution_count": 55,
   "metadata": {},
   "outputs": [
    {
     "data": {
      "text/plain": [
       "Cabin       0.67866\n",
       "Ticket      0.04623\n",
       "Age         0.03292\n",
       "Embarked    0.00250\n",
       "Fare        0.00134\n",
       "Survived    0.00000\n",
       "Pclass      0.00000\n",
       "Name        0.00000\n",
       "Sex         0.00000\n",
       "SibSp       0.00000\n",
       "Parch       0.00000\n",
       "dtype: float64"
      ]
     },
     "execution_count": 55,
     "metadata": {},
     "output_type": "execute_result"
    }
   ],
   "source": [
    "(data.isna().sum()/data.shape[0]).sort_values(ascending=False)"
   ]
  },
  {
   "cell_type": "markdown",
   "metadata": {},
   "source": [
    "Think about the ways to handle these missing values for modelling and write your answer below. Which methods would you suggest? What are their advantages and disadvantages?\n",
    "\n",
    "Для признака *Cabin* отсутствуют значения для 67,9% наблюдений, поэтому. \\\n",
    "Также отсутствуют значения для ~3-5% наблюдений по признакам *Age* и *Ticket*.\\\n",
    "Отсутствующие значения можно заполнить средней либо медианой для числовых значений (Age, Fare). Для этого необходимо оценить нормальность распределения данных признаков. Для категориальных признаков можно создать отдельный класс, можно также присвоить значения другого наиболее распространенного класса.\n",
    "Наиболее радикальный метод - удалить все записи, содержащие пропущенные значения, однако в таком случае можно потерять значительную часть информации, так как датасет небольшого размера."
   ]
  },
  {
   "cell_type": "markdown",
   "metadata": {},
   "source": [
    "**(1.5 points)** Prepare the features and train two models (KNN and Logistic Regression) to predict the survival. Compare the results. Use accuracy as a metric. Don't forget about cross-validation!"
   ]
  },
  {
   "cell_type": "code",
   "execution_count": 56,
   "metadata": {},
   "outputs": [
    {
     "data": {
      "text/html": [
       "<div>\n",
       "<style scoped>\n",
       "    .dataframe tbody tr th:only-of-type {\n",
       "        vertical-align: middle;\n",
       "    }\n",
       "\n",
       "    .dataframe tbody tr th {\n",
       "        vertical-align: top;\n",
       "    }\n",
       "\n",
       "    .dataframe thead th {\n",
       "        text-align: right;\n",
       "    }\n",
       "</style>\n",
       "<table border=\"1\" class=\"dataframe\">\n",
       "  <thead>\n",
       "    <tr style=\"text-align: right;\">\n",
       "      <th></th>\n",
       "      <th>Survived</th>\n",
       "      <th>Pclass</th>\n",
       "      <th>Age</th>\n",
       "      <th>SibSp</th>\n",
       "      <th>Parch</th>\n",
       "      <th>Fare</th>\n",
       "    </tr>\n",
       "  </thead>\n",
       "  <tbody>\n",
       "    <tr>\n",
       "      <th>count</th>\n",
       "      <td>100000.000000</td>\n",
       "      <td>100000.000000</td>\n",
       "      <td>96708.000000</td>\n",
       "      <td>100000.000000</td>\n",
       "      <td>100000.000000</td>\n",
       "      <td>99866.00000</td>\n",
       "    </tr>\n",
       "    <tr>\n",
       "      <th>mean</th>\n",
       "      <td>0.427740</td>\n",
       "      <td>2.106910</td>\n",
       "      <td>38.355472</td>\n",
       "      <td>0.397690</td>\n",
       "      <td>0.454560</td>\n",
       "      <td>43.92933</td>\n",
       "    </tr>\n",
       "    <tr>\n",
       "      <th>std</th>\n",
       "      <td>0.494753</td>\n",
       "      <td>0.837727</td>\n",
       "      <td>18.313556</td>\n",
       "      <td>0.862566</td>\n",
       "      <td>0.950076</td>\n",
       "      <td>69.58882</td>\n",
       "    </tr>\n",
       "    <tr>\n",
       "      <th>min</th>\n",
       "      <td>0.000000</td>\n",
       "      <td>1.000000</td>\n",
       "      <td>0.080000</td>\n",
       "      <td>0.000000</td>\n",
       "      <td>0.000000</td>\n",
       "      <td>0.68000</td>\n",
       "    </tr>\n",
       "    <tr>\n",
       "      <th>25%</th>\n",
       "      <td>0.000000</td>\n",
       "      <td>1.000000</td>\n",
       "      <td>25.000000</td>\n",
       "      <td>0.000000</td>\n",
       "      <td>0.000000</td>\n",
       "      <td>10.04000</td>\n",
       "    </tr>\n",
       "    <tr>\n",
       "      <th>50%</th>\n",
       "      <td>0.000000</td>\n",
       "      <td>2.000000</td>\n",
       "      <td>39.000000</td>\n",
       "      <td>0.000000</td>\n",
       "      <td>0.000000</td>\n",
       "      <td>24.46000</td>\n",
       "    </tr>\n",
       "    <tr>\n",
       "      <th>75%</th>\n",
       "      <td>1.000000</td>\n",
       "      <td>3.000000</td>\n",
       "      <td>53.000000</td>\n",
       "      <td>1.000000</td>\n",
       "      <td>1.000000</td>\n",
       "      <td>33.50000</td>\n",
       "    </tr>\n",
       "    <tr>\n",
       "      <th>max</th>\n",
       "      <td>1.000000</td>\n",
       "      <td>3.000000</td>\n",
       "      <td>87.000000</td>\n",
       "      <td>8.000000</td>\n",
       "      <td>9.000000</td>\n",
       "      <td>744.66000</td>\n",
       "    </tr>\n",
       "  </tbody>\n",
       "</table>\n",
       "</div>"
      ],
      "text/plain": [
       "            Survived         Pclass           Age          SibSp  \\\n",
       "count  100000.000000  100000.000000  96708.000000  100000.000000   \n",
       "mean        0.427740       2.106910     38.355472       0.397690   \n",
       "std         0.494753       0.837727     18.313556       0.862566   \n",
       "min         0.000000       1.000000      0.080000       0.000000   \n",
       "25%         0.000000       1.000000     25.000000       0.000000   \n",
       "50%         0.000000       2.000000     39.000000       0.000000   \n",
       "75%         1.000000       3.000000     53.000000       1.000000   \n",
       "max         1.000000       3.000000     87.000000       8.000000   \n",
       "\n",
       "               Parch         Fare  \n",
       "count  100000.000000  99866.00000  \n",
       "mean        0.454560     43.92933  \n",
       "std         0.950076     69.58882  \n",
       "min         0.000000      0.68000  \n",
       "25%         0.000000     10.04000  \n",
       "50%         0.000000     24.46000  \n",
       "75%         1.000000     33.50000  \n",
       "max         9.000000    744.66000  "
      ]
     },
     "execution_count": 56,
     "metadata": {},
     "output_type": "execute_result"
    }
   ],
   "source": [
    "data.describe()"
   ]
  },
  {
   "cell_type": "markdown",
   "metadata": {},
   "source": [
    "Для начала разделим выборку на трэйн и тест, так как предобработку данных необходимо проводить отдельно.\n"
   ]
  },
  {
   "cell_type": "code",
   "execution_count": 57,
   "metadata": {},
   "outputs": [],
   "source": [
    "y = data['Survived'].to_numpy()\n",
    "X = data[data.columns[1:]]"
   ]
  },
  {
   "cell_type": "code",
   "execution_count": 58,
   "metadata": {},
   "outputs": [],
   "source": [
    "X_train, X_test, y_train, y_test = train_test_split(X, y, test_size=0.2, shuffle=True, random_state=42, stratify=y)"
   ]
  },
  {
   "cell_type": "markdown",
   "metadata": {},
   "source": [
    "У признака Cabin 26992 уникальных значений. Каждое значение начинается с буквы, далее следует набор из цифр. Извлечем первую букву из каждого значения признака и перепишем признак Cabin. В результате данного преобразования количество значений у данного признака сократится до 9. \n",
    "Количество уникальных значений признака Ticket составляет 75331, что также делает его непригодным для анализа и построения предсказательных моделей. Номер билет может состоять только из цифр, либо из букв и цифр. Создадим отдельную категорию digit для всех билетов, состоящих только из цифр. Для билетов, номера которых содержат буквы, извлечем буквенные обозначения, а также удалим несмысловые, вероятно, символы (. и /) для уменьшения числа категорий. Сохраним данные в переменную Ticket. В итоге остается 37 категорий."
   ]
  },
  {
   "cell_type": "code",
   "execution_count": 59,
   "metadata": {},
   "outputs": [],
   "source": [
    "def cabin_ticket_preproc(data):\n",
    "    data['Cabin'] = data['Cabin'].apply(lambda x: str(x)[0])\n",
    "    data.loc[data['Cabin']=='n', 'Cabin'] = np.nan\n",
    "\n",
    "    data['Ticket'] = data['Ticket'].apply(lambda x: str(x).split()[0])\n",
    "    data.loc[data['Ticket'].apply(lambda x: x.isdigit()), 'Ticket'] = 'digit'\n",
    "    data['Ticket'] = data['Ticket'].apply(lambda x: x.replace('/', '').replace('.', ''))\n",
    "    data.loc[data['Ticket']=='nan', 'Ticket'] = np.nan\n",
    "    return data"
   ]
  },
  {
   "cell_type": "code",
   "execution_count": 60,
   "metadata": {},
   "outputs": [
    {
     "name": "stderr",
     "output_type": "stream",
     "text": [
      "C:\\Users\\314Dell\\AppData\\Roaming\\Python\\Python38\\site-packages\\pandas\\core\\frame.py:3607: SettingWithCopyWarning: \n",
      "A value is trying to be set on a copy of a slice from a DataFrame.\n",
      "Try using .loc[row_indexer,col_indexer] = value instead\n",
      "\n",
      "See the caveats in the documentation: https://pandas.pydata.org/pandas-docs/stable/user_guide/indexing.html#returning-a-view-versus-a-copy\n",
      "  self._set_item(key, value)\n",
      "C:\\Users\\314Dell\\AppData\\Roaming\\Python\\Python38\\site-packages\\pandas\\core\\indexing.py:1817: SettingWithCopyWarning: \n",
      "A value is trying to be set on a copy of a slice from a DataFrame.\n",
      "Try using .loc[row_indexer,col_indexer] = value instead\n",
      "\n",
      "See the caveats in the documentation: https://pandas.pydata.org/pandas-docs/stable/user_guide/indexing.html#returning-a-view-versus-a-copy\n",
      "  self._setitem_single_column(loc, value, pi)\n"
     ]
    }
   ],
   "source": [
    "X_train = cabin_ticket_preproc(X_train)\n",
    "X_test = cabin_ticket_preproc(X_test)"
   ]
  },
  {
   "cell_type": "markdown",
   "metadata": {},
   "source": [
    "Нормализуем показатель Fare, так как для него характерны выбросы."
   ]
  },
  {
   "cell_type": "code",
   "execution_count": 61,
   "metadata": {},
   "outputs": [],
   "source": [
    "# mean = X_train['Fare'].mean()\n",
    "# std = X_train['Fare'].std()\n",
    "# X_train['Fare'] = (X_train['Fare'] - mean)/std\n",
    "# X_test['Fare'] = (X_test['Fare'] - mean)/std"
   ]
  },
  {
   "cell_type": "code",
   "execution_count": 62,
   "metadata": {},
   "outputs": [],
   "source": [
    "X_train['FamilySize'] = X_train.SibSp + X_train.Parch + 1\n",
    "X_test['FamilySize'] = X_test.SibSp + X_test.Parch + 1"
   ]
  },
  {
   "cell_type": "markdown",
   "metadata": {},
   "source": [
    "Заменим пропущенные значения для категориальных признаков 'Ticket', 'Cabin', 'Embarked' значением no_data.\n",
    "Заменим попущенные значения для количественной переменной 'Age' средний значением по переменной 'Pclass', 'Fare' - средним значением признака по обучающей выборке."
   ]
  },
  {
   "cell_type": "code",
   "execution_count": 63,
   "metadata": {},
   "outputs": [],
   "source": [
    "age_dict = X_train[['Age', 'Pclass']].dropna().groupby('Pclass').mean().round(0).to_dict()\n",
    "X_train['Age'] = X_train['Age'].fillna(X_train.Pclass.map(age_dict['Age']))\n",
    "X_test['Age'] = X_test['Age'].fillna(X_test.Pclass.map(age_dict['Age']))\n",
    "\n",
    "mean=X_train['Fare'].mean()\n",
    "X_train['Fare'] = X_train['Fare'].fillna(mean)\n",
    "X_test['Fare'] = X_test['Fare'].fillna(mean)\n",
    "\n",
    "val='no_data'\n",
    "for col in ['Ticket', 'Cabin', 'Embarked']:\n",
    "    X_train[col]  = X_train[col].fillna(val)\n",
    "    X_test[col] = X_test[col].fillna(val)\n"
   ]
  },
  {
   "cell_type": "markdown",
   "metadata": {},
   "source": [
    "Удалим колонку 'Name', так как она содержит количество уникальных значений, равное количество наблюдей, следовательно нерпигодна для моделирования."
   ]
  },
  {
   "cell_type": "code",
   "execution_count": 64,
   "metadata": {},
   "outputs": [],
   "source": [
    "X_train = X_train.drop('Name', axis=1)\n",
    "X_test = X_test.drop('Name', axis=1)"
   ]
  },
  {
   "cell_type": "code",
   "execution_count": 65,
   "metadata": {},
   "outputs": [],
   "source": [
    "#функция для предобработки новых данных (без целевой переменной)\n",
    "def new_data(df, X_train):\n",
    "    \n",
    "    df = cabin_ticket_preproc(df)  \n",
    "    \n",
    "#     std = X_train['Fare'].std()\n",
    "#     mean=X_train['Fare'].mean()   \n",
    "#     df['Fare'] = (df['Fare'] - mean)/std\n",
    "    df['FamilySize'] = df.SibSp + df.Parch + 1\n",
    "    \n",
    "    age_dict = X_train[['Age', 'Pclass']].dropna().groupby('Pclass').mean().round(0).to_dict()\n",
    "    df['Age'] = df['Age'].fillna(df.Pclass.map(age_dict['Age']))\n",
    "    mean = X_train['Fare'].mean()\n",
    "\n",
    "\n",
    "    mean=X_train['Fare'].mean()\n",
    "    df['Fare'] = df['Fare'].fillna(mean)\n",
    "\n",
    "    val='no_data'\n",
    "    for col in ['Ticket', 'Cabin', 'Embarked']:\n",
    "        df[col]  = df[col].fillna(val)\n",
    "\n",
    "    df = df.drop('Name', axis=1)\n",
    "    \n",
    "    \n",
    "    return df"
   ]
  },
  {
   "cell_type": "markdown",
   "metadata": {},
   "source": [
    "Стандартизируем количественные переменные при помощи StandardScaler, а категориальные переведем в векторы при помощи OneHotEncoder."
   ]
  },
  {
   "cell_type": "code",
   "execution_count": 66,
   "metadata": {},
   "outputs": [],
   "source": [
    "\n",
    "def make_model(cat_feat, num_feat, model_type='reg', solver='lbfgs', \n",
    "                    max_iter=1000, C=1.0, tol=1e-5, random_state=42,  penalty='l2', \n",
    "                n_neighbors=5, weights='uniform', scale=False, degree=2):\n",
    "    \n",
    "    # linear regression\n",
    "    if model_type == 'reg':\n",
    "        model = LogisticRegression( penalty=penalty, max_iter=max_iter, C=C, tol=tol, random_state=random_state, solver=solver)\n",
    "    # KNN,\n",
    "    elif model_type == 'knn':\n",
    "        model = KNeighborsClassifier(n_neighbors=n_neighbors, weights=weights)\n",
    " \n",
    "    if scale:\n",
    "        numeric_transformer = Pipeline(\n",
    "                steps=[('pol', PolynomialFeatures(degree=degree)), (\"scaler\", StandardScaler())])\n",
    "        categorical_transformer = OneHotEncoder(handle_unknown=\"ignore\")\n",
    "        preprocessing = ColumnTransformer(\n",
    "        transformers=[\n",
    "            (\"num\", numeric_transformer, num_feat),\n",
    "            (\"cat\", categorical_transformer, cat_feat)])\n",
    "    else:\n",
    "        preprocessing = ColumnTransformer(\n",
    "            [('cat', OneHotEncoder(handle_unknown=\"ignore\"), cat_feat),\n",
    "             \n",
    "            ('num', StandardScaler(), num_feat)])\n",
    "\n",
    "    return Pipeline([\n",
    "            (\"preprocess\", preprocessing),\n",
    "            ('mod', model)\n",
    "        ])\n"
   ]
  },
  {
   "cell_type": "code",
   "execution_count": 67,
   "metadata": {},
   "outputs": [],
   "source": [
    "num_feat = ['Age', 'Fare']\n",
    "cat_feat = ['Pclass', 'Sex',  'SibSp', 'Parch', 'Ticket', 'Cabin', 'Embarked']"
   ]
  },
  {
   "cell_type": "code",
   "execution_count": 68,
   "metadata": {},
   "outputs": [
    {
     "name": "stdout",
     "output_type": "stream",
     "text": [
      "Logistic regression: accuracy: 0.779, f1: 0.732\n"
     ]
    }
   ],
   "source": [
    "results = cross_validate(make_model(model_type='reg', num_feat=num_feat, cat_feat=cat_feat), \n",
    "                                 X_train, y_train, cv=5,\n",
    "                                 return_train_score=True,\n",
    "                                 scoring=['accuracy', 'f1'])\n",
    "error_ac = np.mean(results['test_accuracy'])\n",
    "error_f1 = np.mean(results['test_f1'])\n",
    "print(f'Logistic regression: accuracy: {error_ac:.3f}, f1: {error_f1:.3f}')"
   ]
  },
  {
   "cell_type": "code",
   "execution_count": 69,
   "metadata": {},
   "outputs": [
    {
     "name": "stdout",
     "output_type": "stream",
     "text": [
      "Logistic regression: accuracy: 0.779, f1: 0.732\n"
     ]
    }
   ],
   "source": [
    "results = cross_validate(make_model(model_type='reg', num_feat=num_feat, cat_feat=cat_feat, scale=True), \n",
    "                                 X_train, y_train, cv=5,\n",
    "                                 return_train_score=True,\n",
    "                                 scoring=['accuracy', 'f1'])\n",
    "error_ac = np.mean(results['test_accuracy'])\n",
    "error_f1 = np.mean(results['test_f1'])\n",
    "print(f'Logistic regression: accuracy: {error_ac:.3f}, f1: {error_f1:.3f}')"
   ]
  },
  {
   "cell_type": "code",
   "execution_count": 70,
   "metadata": {},
   "outputs": [],
   "source": [
    "num_feat = ['Age', 'Fare', 'FamilySize']\n",
    "cat_feat = ['Pclass', 'Sex',  'SibSp', 'Parch', 'Ticket', 'Cabin', 'Embarked']"
   ]
  },
  {
   "cell_type": "code",
   "execution_count": 71,
   "metadata": {},
   "outputs": [
    {
     "name": "stdout",
     "output_type": "stream",
     "text": [
      "Logistic regression: accuracy: 0.779, f1: 0.732\n"
     ]
    }
   ],
   "source": [
    "results = cross_validate(make_model(model_type='reg', num_feat=num_feat, cat_feat=cat_feat, scale=True), \n",
    "                                 X_train, y_train, cv=5,\n",
    "                                 return_train_score=True,\n",
    "                                 scoring=['accuracy', 'f1'])\n",
    "error_ac = np.mean(results['test_accuracy'])\n",
    "error_f1 = np.mean(results['test_f1'])\n",
    "print(f'Logistic regression: accuracy: {error_ac:.3f}, f1: {error_f1:.3f}')"
   ]
  },
  {
   "cell_type": "code",
   "execution_count": 72,
   "metadata": {},
   "outputs": [],
   "source": [
    "\n",
    "num_feat = ['Age', 'Fare', 'SibSp', 'Parch', 'FamilySize']\n",
    "cat_feat = ['Pclass', 'Sex',  'Ticket', 'Cabin', 'Embarked']"
   ]
  },
  {
   "cell_type": "code",
   "execution_count": 73,
   "metadata": {},
   "outputs": [
    {
     "name": "stdout",
     "output_type": "stream",
     "text": [
      "Logistic regression: accuracy: 0.777, f1: 0.726\n"
     ]
    }
   ],
   "source": [
    "results = cross_validate(make_model(model_type='reg', num_feat=num_feat, cat_feat=cat_feat), \n",
    "                                 X_train, y_train, cv=5,\n",
    "                                 return_train_score=True,\n",
    "                                 scoring=['accuracy', 'f1'])\n",
    "error_ac = np.mean(results['test_accuracy'])\n",
    "error_f1 = np.mean(results['test_f1'])\n",
    "print(f'Logistic regression: accuracy: {error_ac:.3f}, f1: {error_f1:.3f}')"
   ]
  },
  {
   "cell_type": "code",
   "execution_count": 74,
   "metadata": {},
   "outputs": [
    {
     "name": "stdout",
     "output_type": "stream",
     "text": [
      "Logistic regression: accuracy: 0.777, f1: 0.726\n"
     ]
    }
   ],
   "source": [
    "results = cross_validate(make_model(model_type='reg', num_feat=num_feat, cat_feat=cat_feat,scale=True), \n",
    "                                 X_train, y_train, cv=5,\n",
    "                                 return_train_score=True,\n",
    "                                 scoring=['accuracy', 'f1'])\n",
    "error_ac = np.mean(results['test_accuracy'])\n",
    "error_f1 = np.mean(results['test_f1'])\n",
    "print(f'Logistic regression: accuracy: {error_ac:.3f}, f1: {error_f1:.3f}')"
   ]
  },
  {
   "cell_type": "code",
   "execution_count": 75,
   "metadata": {},
   "outputs": [
    {
     "name": "stdout",
     "output_type": "stream",
     "text": [
      "Logistic regression: accuracy: 0.75, f1: 0.71\n"
     ]
    }
   ],
   "source": [
    "results = cross_validate(make_model(model_type='knn', num_feat=num_feat, cat_feat=cat_feat), \n",
    "                                 X_train, y_train, cv=5,\n",
    "                                 return_train_score=True,\n",
    "                                 scoring=['accuracy', 'f1'])\n",
    "error_ac = np.mean(results['test_accuracy'])\n",
    "error_f1 = np.mean(results['test_f1'])\n",
    "print(f'Logistic regression: accuracy: {error_ac:.2f}, f1: {error_f1:.2f}')"
   ]
  },
  {
   "cell_type": "code",
   "execution_count": 76,
   "metadata": {},
   "outputs": [
    {
     "name": "stdout",
     "output_type": "stream",
     "text": [
      "Logistic regression: accuracy: 0.75, f1: 0.70\n"
     ]
    }
   ],
   "source": [
    "results = cross_validate(make_model(model_type='knn', num_feat=num_feat, cat_feat=cat_feat, scale=True), \n",
    "                                 X_train, y_train, cv=5,\n",
    "                                 return_train_score=True,\n",
    "                                 scoring=['accuracy', 'f1'])\n",
    "error_ac = np.mean(results['test_accuracy'])\n",
    "error_f1 = np.mean(results['test_f1'])\n",
    "print(f'Logistic regression: accuracy: {error_ac:.2f}, f1: {error_f1:.2f}')"
   ]
  },
  {
   "cell_type": "code",
   "execution_count": 77,
   "metadata": {},
   "outputs": [],
   "source": [
    "X_train_2 = X_train.drop('Ticket', axis=1)\n",
    "X_test_2 = X_test.drop('Ticket', axis=1)\n",
    "\n",
    "cat_feat = ['Pclass', 'Sex',  'Cabin', 'SibSp', 'Parch', 'Embarked']"
   ]
  },
  {
   "cell_type": "code",
   "execution_count": 78,
   "metadata": {},
   "outputs": [
    {
     "name": "stdout",
     "output_type": "stream",
     "text": [
      "Logistic regression: accuracy: 0.77, f1: 0.72\n"
     ]
    }
   ],
   "source": [
    "results = cross_validate(make_model(model_type='reg', num_feat=num_feat, cat_feat=cat_feat), \n",
    "                                 X_train_2, y_train, cv=5,\n",
    "                                 return_train_score=True,\n",
    "                                 scoring=['accuracy', 'f1'])\n",
    "error_ac = np.mean(results['test_accuracy'])\n",
    "error_f1 = np.mean(results['test_f1'])\n",
    "print(f'Logistic regression: accuracy: {error_ac:.2f}, f1: {error_f1:.2f}')"
   ]
  },
  {
   "cell_type": "code",
   "execution_count": 79,
   "metadata": {},
   "outputs": [
    {
     "name": "stdout",
     "output_type": "stream",
     "text": [
      "Logistic regression: accuracy: 0.75, f1: 0.70\n"
     ]
    }
   ],
   "source": [
    "results = cross_validate(make_model(model_type='knn', num_feat=num_feat, cat_feat=cat_feat), \n",
    "                                 X_train_2, y_train, cv=5,\n",
    "                                 return_train_score=True,\n",
    "                                 scoring=['accuracy', 'f1'])\n",
    "error_ac = np.mean(results['test_accuracy'])\n",
    "error_f1 = np.mean(results['test_f1'])\n",
    "print(f'Logistic regression: accuracy: {error_ac:.2f}, f1: {error_f1:.2f}')"
   ]
  },
  {
   "cell_type": "markdown",
   "metadata": {},
   "source": [
    "**(0.5 + X points)** Try more feature engineering and hyperparameter tuning to improve the results. You may use either KNN or Logistic Regression (or both)."
   ]
  },
  {
   "cell_type": "code",
   "execution_count": 80,
   "metadata": {},
   "outputs": [
    {
     "name": "stderr",
     "output_type": "stream",
     "text": [
      "C:\\Users\\314Dell\\anaconda3\\envs\\studying\\lib\\site-packages\\sklearn\\linear_model\\_sag.py:328: ConvergenceWarning: The max_iter was reached which means the coef_ did not converge\n",
      "  warnings.warn(\"The max_iter was reached which means \"\n",
      "C:\\Users\\314Dell\\anaconda3\\envs\\studying\\lib\\site-packages\\sklearn\\linear_model\\_sag.py:328: ConvergenceWarning: The max_iter was reached which means the coef_ did not converge\n",
      "  warnings.warn(\"The max_iter was reached which means \"\n",
      "C:\\Users\\314Dell\\anaconda3\\envs\\studying\\lib\\site-packages\\sklearn\\linear_model\\_sag.py:328: ConvergenceWarning: The max_iter was reached which means the coef_ did not converge\n",
      "  warnings.warn(\"The max_iter was reached which means \"\n",
      "C:\\Users\\314Dell\\anaconda3\\envs\\studying\\lib\\site-packages\\sklearn\\linear_model\\_sag.py:328: ConvergenceWarning: The max_iter was reached which means the coef_ did not converge\n",
      "  warnings.warn(\"The max_iter was reached which means \"\n"
     ]
    }
   ],
   "source": [
    "num_feat = ['Age', 'Fare']\n",
    "cat_feat = ['Pclass', 'Sex',  'SibSp', 'Parch', 'Ticket', 'Cabin', 'Embarked']\n",
    "\n",
    "lr_param_grid = {'C': [0.01, 0.01, 0.1, 0.1, 1.0, 1.0, 2.0, 2.0],\n",
    "                 'penalty': ['l1', 'l2']*4}\n",
    "error_ac, error_f1 = [], []\n",
    "for c, p in zip(lr_param_grid['C'], lr_param_grid['penalty']):\n",
    "    results = cross_validate(make_model(model_type='reg', penalty=p, num_feat=num_feat, cat_feat=cat_feat,  C=c, solver='saga'), \n",
    "                                 X_train, y_train, cv=5,\n",
    "                                 return_train_score=True,\n",
    "                                 scoring=['accuracy', 'f1'])\n",
    "    error_ac.append(np.mean(results['test_accuracy']))\n",
    "    error_f1.append(np.mean(results['test_f1']))"
   ]
  },
  {
   "cell_type": "code",
   "execution_count": 81,
   "metadata": {},
   "outputs": [
    {
     "data": {
      "text/html": [
       "<div>\n",
       "<style scoped>\n",
       "    .dataframe tbody tr th:only-of-type {\n",
       "        vertical-align: middle;\n",
       "    }\n",
       "\n",
       "    .dataframe tbody tr th {\n",
       "        vertical-align: top;\n",
       "    }\n",
       "\n",
       "    .dataframe thead th {\n",
       "        text-align: right;\n",
       "    }\n",
       "</style>\n",
       "<table border=\"1\" class=\"dataframe\">\n",
       "  <thead>\n",
       "    <tr style=\"text-align: right;\">\n",
       "      <th></th>\n",
       "      <th>C</th>\n",
       "      <th>penalty</th>\n",
       "      <th>accuracy</th>\n",
       "      <th>f1_score</th>\n",
       "    </tr>\n",
       "  </thead>\n",
       "  <tbody>\n",
       "    <tr>\n",
       "      <th>1</th>\n",
       "      <td>0.01</td>\n",
       "      <td>l2</td>\n",
       "      <td>0.778700</td>\n",
       "      <td>0.732698</td>\n",
       "    </tr>\n",
       "    <tr>\n",
       "      <th>0</th>\n",
       "      <td>0.01</td>\n",
       "      <td>l1</td>\n",
       "      <td>0.778125</td>\n",
       "      <td>0.732345</td>\n",
       "    </tr>\n",
       "    <tr>\n",
       "      <th>2</th>\n",
       "      <td>0.10</td>\n",
       "      <td>l1</td>\n",
       "      <td>0.778687</td>\n",
       "      <td>0.732203</td>\n",
       "    </tr>\n",
       "    <tr>\n",
       "      <th>5</th>\n",
       "      <td>1.00</td>\n",
       "      <td>l2</td>\n",
       "      <td>0.778725</td>\n",
       "      <td>0.732018</td>\n",
       "    </tr>\n",
       "    <tr>\n",
       "      <th>4</th>\n",
       "      <td>1.00</td>\n",
       "      <td>l1</td>\n",
       "      <td>0.778712</td>\n",
       "      <td>0.732016</td>\n",
       "    </tr>\n",
       "    <tr>\n",
       "      <th>7</th>\n",
       "      <td>2.00</td>\n",
       "      <td>l2</td>\n",
       "      <td>0.778725</td>\n",
       "      <td>0.732010</td>\n",
       "    </tr>\n",
       "    <tr>\n",
       "      <th>3</th>\n",
       "      <td>0.10</td>\n",
       "      <td>l2</td>\n",
       "      <td>0.778700</td>\n",
       "      <td>0.732003</td>\n",
       "    </tr>\n",
       "    <tr>\n",
       "      <th>6</th>\n",
       "      <td>2.00</td>\n",
       "      <td>l1</td>\n",
       "      <td>0.778687</td>\n",
       "      <td>0.731961</td>\n",
       "    </tr>\n",
       "  </tbody>\n",
       "</table>\n",
       "</div>"
      ],
      "text/plain": [
       "      C penalty  accuracy  f1_score\n",
       "1  0.01      l2  0.778700  0.732698\n",
       "0  0.01      l1  0.778125  0.732345\n",
       "2  0.10      l1  0.778687  0.732203\n",
       "5  1.00      l2  0.778725  0.732018\n",
       "4  1.00      l1  0.778712  0.732016\n",
       "7  2.00      l2  0.778725  0.732010\n",
       "3  0.10      l2  0.778700  0.732003\n",
       "6  2.00      l1  0.778687  0.731961"
      ]
     },
     "execution_count": 81,
     "metadata": {},
     "output_type": "execute_result"
    }
   ],
   "source": [
    "pd.DataFrame({'C':[0.01, 0.01, 0.1, 0.1, 1.0, 1.0, 2.0, 2.0],\n",
    "              'penalty': ['l1', 'l2']*4, 'accuracy':error_ac, 'f1_score':error_f1}).\\\n",
    "        sort_values(['f1_score', 'accuracy'], ascending=False)"
   ]
  },
  {
   "cell_type": "code",
   "execution_count": 82,
   "metadata": {},
   "outputs": [],
   "source": [
    "knn_param_grid = [3, 5, 7, 10]\n",
    "num_feat = ['Age', 'Fare']\n",
    "cat_feat = ['Pclass', 'Sex',  'SibSp', 'Parch', 'Ticket', 'Cabin', 'Embarked']\n",
    "\n",
    "error_ac_knn, error_f1_knn = [], []\n",
    "for n in knn_param_grid:\n",
    "    results = cross_validate(make_model(model_type='knn', n_neighbors=n, num_feat=num_feat, cat_feat=cat_feat), \n",
    "                                 X_train, y_train, cv=5,\n",
    "                                 return_train_score=True,\n",
    "                                 scoring=['accuracy', 'f1'])\n",
    "    error_ac_knn.append(np.mean(results['test_accuracy']))\n",
    "    error_f1_knn.append(np.mean(results['test_f1']))"
   ]
  },
  {
   "cell_type": "code",
   "execution_count": 84,
   "metadata": {},
   "outputs": [
    {
     "data": {
      "text/html": [
       "<div>\n",
       "<style scoped>\n",
       "    .dataframe tbody tr th:only-of-type {\n",
       "        vertical-align: middle;\n",
       "    }\n",
       "\n",
       "    .dataframe tbody tr th {\n",
       "        vertical-align: top;\n",
       "    }\n",
       "\n",
       "    .dataframe thead th {\n",
       "        text-align: right;\n",
       "    }\n",
       "</style>\n",
       "<table border=\"1\" class=\"dataframe\">\n",
       "  <thead>\n",
       "    <tr style=\"text-align: right;\">\n",
       "      <th></th>\n",
       "      <th>n_neighbors</th>\n",
       "      <th>accuracy</th>\n",
       "      <th>f1_score</th>\n",
       "    </tr>\n",
       "  </thead>\n",
       "  <tbody>\n",
       "    <tr>\n",
       "      <th>2</th>\n",
       "      <td>7</td>\n",
       "      <td>0.761625</td>\n",
       "      <td>0.717438</td>\n",
       "    </tr>\n",
       "    <tr>\n",
       "      <th>3</th>\n",
       "      <td>10</td>\n",
       "      <td>0.767038</td>\n",
       "      <td>0.712456</td>\n",
       "    </tr>\n",
       "    <tr>\n",
       "      <th>1</th>\n",
       "      <td>5</td>\n",
       "      <td>0.753125</td>\n",
       "      <td>0.707239</td>\n",
       "    </tr>\n",
       "    <tr>\n",
       "      <th>0</th>\n",
       "      <td>3</td>\n",
       "      <td>0.738725</td>\n",
       "      <td>0.691302</td>\n",
       "    </tr>\n",
       "  </tbody>\n",
       "</table>\n",
       "</div>"
      ],
      "text/plain": [
       "   n_neighbors  accuracy  f1_score\n",
       "2            7  0.761625  0.717438\n",
       "3           10  0.767038  0.712456\n",
       "1            5  0.753125  0.707239\n",
       "0            3  0.738725  0.691302"
      ]
     },
     "execution_count": 84,
     "metadata": {},
     "output_type": "execute_result"
    }
   ],
   "source": [
    "pd.DataFrame({'n_neighbors':knn_param_grid, 'accuracy':error_ac_knn, 'f1_score':error_f1_knn}).\\\n",
    "        sort_values(['f1_score', 'accuracy'], ascending=False)"
   ]
  },
  {
   "cell_type": "markdown",
   "metadata": {},
   "source": [
    "Финальная модель"
   ]
  },
  {
   "cell_type": "code",
   "execution_count": 85,
   "metadata": {},
   "outputs": [],
   "source": [
    "test_set = pd.read_csv(os.path.join(PATH, 'titanic', 'test.csv')).set_index('PassengerId')\n",
    "test_set_prep = new_data(test_set, X_train)"
   ]
  },
  {
   "cell_type": "code",
   "execution_count": 167,
   "metadata": {},
   "outputs": [],
   "source": [
    "# снизим порог с 0.5, до 0.4, чтобы модель меньше ошибалась на положительных ответах\n",
    "num_feat = ['Age', 'Fare']\n",
    "cat_feat = ['Pclass', 'Sex',  'SibSp', 'Parch', 'Ticket', 'Cabin', 'Embarked']\n",
    "\n",
    "model_final = make_model(num_feat=num_feat, cat_feat=cat_feat)\n",
    "model_final.fit(X_train, y_train)\n",
    "y_pred_l_prob = model_final.predict_proba(test_set_prep)\n",
    "y_prob = np.where(y_pred_l_prob[:, 1]>0.40, 1, 0)"
   ]
  },
  {
   "cell_type": "markdown",
   "metadata": {},
   "source": [
    "Select the best model, load the test set and make the predictions. Submit them to kaggle and see the results :)\n",
    "\n",
    "**Note**. X points will depend on your kaggle public leaderboard score.\n",
    "$$ f(score) = 1.0, \\ \\ 0.79 \\leq score < 0.80,$$\n",
    "$$ f(score) = 2.5, \\ \\ 0.80 \\leq score < 0.81,$$ \n",
    "$$ f(score) = 4.0, \\ \\ 0.81 \\leq score $$ \n",
    "Your code should generate the output submitted to kaggle. Fix random seeds to make the results reproducible."
   ]
  },
  {
   "cell_type": "code",
   "execution_count": 168,
   "metadata": {},
   "outputs": [],
   "source": [
    "pd.DataFrame(y_prob, columns=['Survived'], index=test_set_prep.index).to_csv('submission_pr.csv')"
   ]
  },
  {
   "cell_type": "markdown",
   "metadata": {},
   "source": [
    "\n",
    "Score: 0.78615\\\n",
    "Public score: 0.78646"
   ]
  },
  {
   "cell_type": "markdown",
   "metadata": {},
   "source": [
    "Так как эти данные мы уже рассматривали, я не описывала подробности их модификаций и препроцессинга.\n",
    "Добиться действительно хорошего результата мне не удалось, хотя генерацией фич, подбором параметров я и занималась. На результате сказалась нехватка времени (подозреваю, я в этом не одинока), поэтому не удалось действительно качественно подойти к решению последней задачи.\n",
    "\n"
   ]
  }
 ],
 "metadata": {
  "kernelspec": {
   "display_name": "Python 3",
   "language": "python",
   "name": "python3"
  },
  "language_info": {
   "codemirror_mode": {
    "name": "ipython",
    "version": 3
   },
   "file_extension": ".py",
   "mimetype": "text/x-python",
   "name": "python",
   "nbconvert_exporter": "python",
   "pygments_lexer": "ipython3",
   "version": "3.8.10"
  }
 },
 "nbformat": 4,
 "nbformat_minor": 4
}
